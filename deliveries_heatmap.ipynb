{
 "cells": [
  {
   "cell_type": "markdown",
   "metadata": {},
   "source": [
    "# imports"
   ]
  },
  {
   "cell_type": "code",
   "execution_count": 27,
   "metadata": {},
   "outputs": [],
   "source": [
    "import seaborn as sns\n",
    "import pandas as pd\n",
    "import datetime\n",
    "\n",
    "\n",
    "df = pd.read_json(\"deliveries.jsonl\", lines=True)"
   ]
  },
  {
   "cell_type": "code",
   "execution_count": 28,
   "metadata": {},
   "outputs": [
    {
     "data": {
      "text/html": [
       "<div>\n",
       "<style scoped>\n",
       "    .dataframe tbody tr th:only-of-type {\n",
       "        vertical-align: middle;\n",
       "    }\n",
       "\n",
       "    .dataframe tbody tr th {\n",
       "        vertical-align: top;\n",
       "    }\n",
       "\n",
       "    .dataframe thead th {\n",
       "        text-align: right;\n",
       "    }\n",
       "</style>\n",
       "<table border=\"1\" class=\"dataframe\">\n",
       "  <thead>\n",
       "    <tr style=\"text-align: right;\">\n",
       "      <th></th>\n",
       "      <th>purchase_id</th>\n",
       "      <th>purchase_timestamp</th>\n",
       "      <th>delivery_timestamp</th>\n",
       "      <th>delivery_company</th>\n",
       "    </tr>\n",
       "  </thead>\n",
       "  <tbody>\n",
       "    <tr>\n",
       "      <th>0</th>\n",
       "      <td>20001</td>\n",
       "      <td>2022-03-04T12:00:32</td>\n",
       "      <td>2022-03-05T04:43:47.640132</td>\n",
       "      <td>516.0</td>\n",
       "    </tr>\n",
       "    <tr>\n",
       "      <th>1</th>\n",
       "      <td>20002</td>\n",
       "      <td>2022-02-24T09:04:00</td>\n",
       "      <td>2022-02-24T00:01:00.867462</td>\n",
       "      <td>516.0</td>\n",
       "    </tr>\n",
       "    <tr>\n",
       "      <th>2</th>\n",
       "      <td>20003</td>\n",
       "      <td>2022-02-23T01:05:44</td>\n",
       "      <td>2022-02-24T08:09:17.876153</td>\n",
       "      <td>620.0</td>\n",
       "    </tr>\n",
       "    <tr>\n",
       "      <th>3</th>\n",
       "      <td>20004</td>\n",
       "      <td>2022-01-12T19:51:01</td>\n",
       "      <td>2022-01-15T16:13:50.809136</td>\n",
       "      <td>360.0</td>\n",
       "    </tr>\n",
       "    <tr>\n",
       "      <th>4</th>\n",
       "      <td>20005</td>\n",
       "      <td>2022-03-16T20:50:14</td>\n",
       "      <td>2022-03-20T08:42:59.227165</td>\n",
       "      <td>516.0</td>\n",
       "    </tr>\n",
       "  </tbody>\n",
       "</table>\n",
       "</div>"
      ],
      "text/plain": [
       "   purchase_id   purchase_timestamp          delivery_timestamp  \\\n",
       "0        20001  2022-03-04T12:00:32  2022-03-05T04:43:47.640132   \n",
       "1        20002  2022-02-24T09:04:00  2022-02-24T00:01:00.867462   \n",
       "2        20003  2022-02-23T01:05:44  2022-02-24T08:09:17.876153   \n",
       "3        20004  2022-01-12T19:51:01  2022-01-15T16:13:50.809136   \n",
       "4        20005  2022-03-16T20:50:14  2022-03-20T08:42:59.227165   \n",
       "\n",
       "   delivery_company  \n",
       "0             516.0  \n",
       "1             516.0  \n",
       "2             620.0  \n",
       "3             360.0  \n",
       "4             516.0  "
      ]
     },
     "execution_count": 28,
     "metadata": {},
     "output_type": "execute_result"
    }
   ],
   "source": [
    "# df.describe()\n",
    "df.head()\n",
    "\n",
    "\n",
    "# ax = sns.heatmap(df.corr(), square=True, cmap='RdYlGn')"
   ]
  },
  {
   "cell_type": "markdown",
   "metadata": {},
   "source": [
    "# adding a column with time between purchase_timestamp and delivery_timestamp\n",
    "\n",
    "## adding new columns\n",
    "1. Split both columns into date and time (using \"T\" as a separator).\n",
    "2. Cut microseconds from delivery time, so it will be the same format as purchase_time, because there are no microseconds in purchase_time (using \".\" as a separator).\n",
    "3. Split two date columns into year, month, day (using \"-\" as a separator).\n",
    "4. Split two time columns into hour, minute, second (using \":\" as a separator)."
   ]
  },
  {
   "cell_type": "code",
   "execution_count": 32,
   "metadata": {},
   "outputs": [],
   "source": [
    "\n",
    "# date1 = datetime.datetime(df[\"delivery_timestamp\"]\n",
    "# 1.\n",
    "df[[\"purchase_date\", \"purchase_time\"]] = df[\"purchase_timestamp\"].str.split('T', expand=True)\n",
    "df[[\"delivery_date\", \"delivery_time\"]] = df[\"delivery_timestamp\"].str.split('T', expand=True)\n",
    "\n",
    "# 2.\n",
    "df[\"delivery_time\"] = df[\"delivery_time\"].str.split('.', expand=True)[0]\n",
    "\n",
    "# 3\n",
    "df[[\"p_year\", \"p_month\", \"p_day\"]] = df[\"purchase_date\"].str.split('-', expand=True)\n",
    "df[[\"d_year\", \"d_month\", \"d_day\"]] = df[\"delivery_date\"].str.split('-', expand=True)\n",
    "\n",
    "# 4.\n",
    "df[[\"p_hour\", \"p_minute\", \"p_second\"]] = df[\"purchase_time\"].str.split(':', expand=True)\n",
    "df[[\"d_hour\", \"d_minute\", \"d_second\"]] = df[\"delivery_time\"].str.split(':', expand=True)\n",
    "\n",
    "# df"
   ]
  },
  {
   "cell_type": "markdown",
   "metadata": {},
   "source": [
    "## calculating time difference in datetime format"
   ]
  },
  {
   "cell_type": "code",
   "execution_count": null,
   "metadata": {},
   "outputs": [],
   "source": []
  },
  {
   "cell_type": "code",
   "execution_count": 30,
   "metadata": {},
   "outputs": [],
   "source": [
    "# df[\"delivery timestamp\"] = df[\"delivery timestamp\"]\n",
    "# df[\"delivery_time\"] = df[\"delivery_timestamp\"] - df[\"purchase_timestamp\"]"
   ]
  }
 ],
 "metadata": {
  "interpreter": {
   "hash": "b89b5cfaba6639976dc87ff2fec6d58faec662063367e2c229c520fe71072417"
  },
  "kernelspec": {
   "display_name": "Python 3.10.1 64-bit",
   "language": "python",
   "name": "python3"
  },
  "language_info": {
   "codemirror_mode": {
    "name": "ipython",
    "version": 3
   },
   "file_extension": ".py",
   "mimetype": "text/x-python",
   "name": "python",
   "nbconvert_exporter": "python",
   "pygments_lexer": "ipython3",
   "version": "3.10.1"
  },
  "orig_nbformat": 4
 },
 "nbformat": 4,
 "nbformat_minor": 2
}
