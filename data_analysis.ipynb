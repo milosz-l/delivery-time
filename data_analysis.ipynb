{
    "cells": [
        {
            "cell_type": "markdown",
            "metadata": {},
            "source": [
                "# imports and loading DataFrame"
            ]
        },
        {
            "cell_type": "code",
            "execution_count": 1,
            "metadata": {},
            "outputs": [],
            "source": [
                "import seaborn as sns\n",
                "import matplotlib.pyplot as plt\n",
                "import scipy.stats as ss\n",
                "import pandas as pd\n",
                "import numpy as np\n",
                "import datetime\n",
                "\n",
                "\n",
                "# fact table\n",
                "sessions_df = pd.read_json(\"data/sessions.jsonl\", lines=True)\n",
                "\n",
                "# dimension tables\n",
                "deliveries_df = pd.read_json(\"data/deliveries.jsonl\", lines=True)\n",
                "products_df = pd.read_json(\"data/products.jsonl\", lines=True)\n",
                "users_df = pd.read_json(\"data/users.jsonl\", lines=True)"
            ]
        },
        {
            "cell_type": "markdown",
            "metadata": {},
            "source": [
                "# constant values"
            ]
        },
        {
            "cell_type": "code",
            "execution_count": 2,
            "metadata": {},
            "outputs": [],
            "source": [
                "MAKE_PLOTS = False\n",
                "MAKE_PAIRPLOT = False\n",
                "DATE_FORMAT = \"%Y-%m-%dT%H:%M:%S\"\n",
                "PRICE_TRESHOLD = 100_000    # for outliers\n",
                "WEIGHT_TRESHOLD = 50        # for outliers\n",
                "COLUMNS_TO_DROP = [\"delivery_timestamp\", \"session_id\", \"purchase_id\", \"event_type\", \"name\", \"street\", \"product_id\", \"product_name\", \"brand\", \"user_id\"]\n",
                "COLUMNS_TO_ONE_HOT = [\"delivery_company\", \"city\", \"category_path\"]\n",
                "SEED = 42\n",
                "SHOW_ALL_WARNINGS = False\n",
                "SHOW_ONLY_ONE_WARNING = False"
            ]
        },
        {
            "cell_type": "code",
            "execution_count": 3,
            "metadata": {},
            "outputs": [],
            "source": [
                "import warnings\n",
                "\n",
                "if SHOW_ONLY_ONE_WARNING:\n",
                "    warnings.filterwarnings(action='once')\n",
                "elif not SHOW_ALL_WARNINGS:\n",
                "    warnings.filterwarnings('ignore')"
            ]
        },
        {
            "cell_type": "markdown",
            "metadata": {},
            "source": [
                "# merging all data into one DataFrame and other transformations"
            ]
        },
        {
            "cell_type": "markdown",
            "metadata": {},
            "source": [
                "## adding a column with time difference in deliveries\n",
                "adding a column with time difference between purchase_timestamp and delivery_timestamp in deliveries table\n",
                "\n",
                "1. Cut microseconds from delivery_timestamp, so it will be the same format as purchase_timestamp, because there are no microseconds in purchase_timestamp (using \".\" as a separator).\n",
                "2. Change columns format to datetime\n",
                "3. Add time_diff column (as timedelta64 object).\n",
                "4. Drop rows where time_diff is null (which means that delivery_timestamp was null).\n",
                "5. Change type of time_diff from timedelta64 to seconds in float.\n",
                "6. Drop rows where time_diff is below 0. THIS STEP IS MADE IN ### without time_diff below 0"
            ]
        },
        {
            "cell_type": "code",
            "execution_count": 4,
            "metadata": {},
            "outputs": [],
            "source": [
                "# 1.\n",
                "deliveries_df[\"delivery_timestamp\"] = deliveries_df[\"delivery_timestamp\"].str.split('.', expand=True)[0]\n",
                "\n",
                "# 2.\n",
                "deliveries_df[\"purchase_timestamp\"] = pd.to_datetime(deliveries_df[\"purchase_timestamp\"], format=DATE_FORMAT)\n",
                "deliveries_df[\"delivery_timestamp\"] = pd.to_datetime(deliveries_df[\"delivery_timestamp\"], format=DATE_FORMAT)\n",
                "\n",
                "# 3.\n",
                "deliveries_df[\"time_diff\"] = deliveries_df[\"delivery_timestamp\"] - deliveries_df[\"purchase_timestamp\"]\n",
                "\n",
                "# 4.\n",
                "deliveries_df = deliveries_df[deliveries_df[\"time_diff\"].notna()]\n",
                "\n",
                "# 5.\n",
                "# time diff as duration in seconds\n",
                "deliveries_df[\"time_diff\"] = deliveries_df[\"time_diff\"].apply(datetime.timedelta.total_seconds)\n",
                "\n",
                "# 6.\n",
                "# deliveries_df = deliveries_df[deliveries_df[\"time_diff\"] >= 0]"
            ]
        },
        {
            "cell_type": "markdown",
            "metadata": {},
            "source": [
                "## join deliveries with sessions"
            ]
        },
        {
            "cell_type": "code",
            "execution_count": 5,
            "metadata": {},
            "outputs": [],
            "source": [
                "# drop rows where event_type is not equal \"BUY_PRODUCT\"\n",
                "sessions_df = sessions_df[sessions_df[\"event_type\"] == \"BUY_PRODUCT\"]\n",
                "df = deliveries_df.merge(sessions_df, on=\"purchase_id\", how=\"left\")"
            ]
        },
        {
            "cell_type": "code",
            "execution_count": 6,
            "metadata": {},
            "outputs": [],
            "source": [
                "# making sure, that timestamp == purchase_timestamp\n",
                "num_of_rows_before = df.shape[0]\n",
                "df = df[df[\"timestamp\"] == df[\"purchase_timestamp\"]]\n",
                "num_of_rows_after = df.shape[0]\n",
                "\n",
                "assert(num_of_rows_before == num_of_rows_after)\n",
                "\n",
                "# now we can drop timestamp column, as it is redundant\n",
                "df = df.drop(columns=\"timestamp\")"
            ]
        },
        {
            "cell_type": "markdown",
            "metadata": {},
            "source": [
                "## join with other tables"
            ]
        },
        {
            "cell_type": "code",
            "execution_count": 7,
            "metadata": {},
            "outputs": [],
            "source": [
                "df = df.merge(users_df, on=\"user_id\", how=\"left\")\n",
                "df = df.merge(products_df, on=\"product_id\", how=\"left\")"
            ]
        },
        {
            "cell_type": "markdown",
            "metadata": {},
            "source": [
                "# missing data analysis - MCAR, MAR, MNAR\n",
                "\n",
                "made without outliers but with prices below zero (on copy of df)"
            ]
        },
        {
            "cell_type": "code",
            "execution_count": 8,
            "metadata": {},
            "outputs": [],
            "source": [
                "missing_data_df = df.copy(deep=False)\n",
                "missing_data_df[\"delivery_company_is_missing\"] = missing_data_df[\"delivery_company\"].isna()\n",
                "missing_data_df[\"user_id_is_missing\"] = missing_data_df[\"user_id\"].isna()\n",
                "missing_data_df[\"product_id_is_missing\"] = missing_data_df[\"product_id\"].isna()"
            ]
        },
        {
            "cell_type": "code",
            "execution_count": 9,
            "metadata": {},
            "outputs": [],
            "source": [
                "# rejecting outliers for given PRICE_TRESHOLD\n",
                "missing_data_df = missing_data_df[missing_data_df[\"price\"] <= PRICE_TRESHOLD]\n",
                "\n",
                "# rejecting outliers for given WEIGHT_TRESHOLD\n",
                "missing_data_df = missing_data_df[missing_data_df[\"weight_kg\"] <= WEIGHT_TRESHOLD]"
            ]
        },
        {
            "cell_type": "code",
            "execution_count": 10,
            "metadata": {},
            "outputs": [],
            "source": [
                "NUM_BINS_MISSING = 50\n",
                "\n",
                "def compare_histograms_for_missing(input_df1, input_df2, end_of_title1=\"\", end_of_title2=\"\"):\n",
                "    fig, ax = plt.subplots(4, 2)\n",
                "    \n",
                "    def plot_histograms_missing(input_df, plot_column, end_of_title=\"\"):\n",
                "\n",
                "        def plot_hist_missing(x, y, col_name, num_bins=None):\n",
                "            if num_bins:\n",
                "                ax[x, y].hist(input_df[col_name], bins=num_bins)\n",
                "            else:\n",
                "                ax[x, y].hist(input_df[col_name])\n",
                "            ax[x, y].set_title(f\"histogram of {col_name}\" + end_of_title)\n",
                "            ax[x, y].set_xlabel(col_name)\n",
                "            ax[x, y].set_ylabel(\"# of observations\")\n",
                "\n",
                "        plot_hist_missing(0, plot_column, \"time_diff\", NUM_BINS_MISSING)\n",
                "        plot_hist_missing(1, plot_column, \"offered_discount\", NUM_BINS_MISSING)\n",
                "        plot_hist_missing(2, plot_column, \"price\", NUM_BINS_MISSING)\n",
                "        plot_hist_missing(3, plot_column, \"weight_kg\", NUM_BINS_MISSING)\n",
                "\n",
                "    plot_histograms_missing(input_df1, 0, end_of_title1)\n",
                "    plot_histograms_missing(input_df2, 1, end_of_title2)\n",
                "\n",
                "    fig.set_size_inches([24, 21])\n",
                "    plt.show()"
            ]
        },
        {
            "cell_type": "markdown",
            "metadata": {},
            "source": [
                "## delivery_company missing"
            ]
        },
        {
            "cell_type": "code",
            "execution_count": 11,
            "metadata": {},
            "outputs": [],
            "source": [
                "no_missing_delivery_company = missing_data_df[missing_data_df[\"delivery_company_is_missing\"] == False]\n",
                "missing_delivery_company = missing_data_df[missing_data_df[\"delivery_company_is_missing\"] == True]"
            ]
        },
        {
            "cell_type": "code",
            "execution_count": 12,
            "metadata": {},
            "outputs": [],
            "source": [
                "if MAKE_PLOTS:\n",
                "    compare_histograms_for_missing(no_missing_delivery_company, missing_delivery_company, \" without missing data for delivery_company\", \" with missing delivery_company\")"
            ]
        },
        {
            "cell_type": "markdown",
            "metadata": {},
            "source": [
                "## user_id missing"
            ]
        },
        {
            "cell_type": "code",
            "execution_count": 13,
            "metadata": {},
            "outputs": [],
            "source": [
                "no_missing_user_id = missing_data_df[missing_data_df[\"user_id_is_missing\"] == False]\n",
                "missing_user_id = missing_data_df[missing_data_df[\"user_id_is_missing\"] == True]"
            ]
        },
        {
            "cell_type": "code",
            "execution_count": 14,
            "metadata": {},
            "outputs": [],
            "source": [
                "if MAKE_PLOTS:\n",
                "    compare_histograms_for_missing(no_missing_user_id, missing_user_id, \" without missing data for user_id\", \" with missing user_id\")"
            ]
        },
        {
            "cell_type": "markdown",
            "metadata": {},
            "source": [
                "## product_id missing\n",
                "this analysis doesn't make sense"
            ]
        },
        {
            "cell_type": "code",
            "execution_count": 15,
            "metadata": {},
            "outputs": [],
            "source": [
                "no_missing_product_id = missing_data_df[missing_data_df[\"product_id_is_missing\"] == False]\n",
                "missing_product_id = missing_data_df[missing_data_df[\"product_id_is_missing\"] == True]"
            ]
        },
        {
            "cell_type": "code",
            "execution_count": 16,
            "metadata": {},
            "outputs": [],
            "source": [
                "# if MAKE_PLOTS:\n",
                "#     compare_histograms_for_missing(no_missing_product_id, missing_product_id, \" without missing data for product_id\", \" with missing product_id\")"
            ]
        },
        {
            "cell_type": "markdown",
            "metadata": {},
            "source": [
                "# visualizations"
            ]
        },
        {
            "cell_type": "markdown",
            "metadata": {},
            "source": [
                "## time_diff histogram and log-normal distribution test"
            ]
        },
        {
            "cell_type": "code",
            "execution_count": 17,
            "metadata": {},
            "outputs": [],
            "source": [
                "if MAKE_PLOTS:\n",
                "    fig, ax = plt.subplots(1, 2)\n",
                "\n",
                "    def plot_hist(x, num_bins=50, func=None):\n",
                "        if func:\n",
                "            ax[x].hist(func(df[\"time_diff\"]), bins=num_bins)\n",
                "            ax[x].set_title(f\"with {func} function\")\n",
                "        else:\n",
                "            ax[x].hist(df[\"time_diff\"], bins=num_bins)\n",
                "            ax[x].set_title(f\"without function\")\n",
                "        ax[x].set_xlabel(\"time difference [seconds]\")\n",
                "        ax[x].set_ylabel(\"# of observations\")\n",
                "\n",
                "    plot_hist(0)\n",
                "    plot_hist(1, func=np.log)\n",
                "    # plot_hist(1, 0, func=np.log2)\n",
                "    # plot_hist(1, 1, func=np.log10)\n",
                "\n",
                "    fig.set_size_inches([12, 6])\n",
                "    plt.show()"
            ]
        },
        {
            "cell_type": "markdown",
            "metadata": {},
            "source": [
                "## histograms of continuous variables"
            ]
        },
        {
            "cell_type": "code",
            "execution_count": 18,
            "metadata": {},
            "outputs": [],
            "source": [
                "NUM_BINS = 50\n",
                "\n",
                "\n",
                "def plot_histograms(input_df):\n",
                "    fig, ax = plt.subplots(2, 2)\n",
                "\n",
                "    def plot_hist(x, y, col_name, num_bins=None):\n",
                "        if num_bins:\n",
                "            ax[x, y].hist(input_df[col_name], bins=num_bins)\n",
                "        else:\n",
                "            ax[x, y].hist(input_df[col_name])\n",
                "        ax[x, y].set_title(f\"histogram of {col_name}\")\n",
                "        ax[x, y].set_xlabel(col_name)\n",
                "        ax[x, y].set_ylabel(\"# of observations\")\n",
                "\n",
                "    plot_hist(0, 0, \"time_diff\", NUM_BINS)\n",
                "    plot_hist(0, 1, \"offered_discount\", NUM_BINS)\n",
                "    plot_hist(1, 0, \"price\", NUM_BINS)\n",
                "    plot_hist(1, 1, \"weight_kg\", NUM_BINS)\n",
                "\n",
                "    fig.set_size_inches([12, 12])\n",
                "    plt.show()"
            ]
        },
        {
            "cell_type": "markdown",
            "metadata": {},
            "source": [
                "### with outliers"
            ]
        },
        {
            "cell_type": "code",
            "execution_count": 19,
            "metadata": {},
            "outputs": [],
            "source": [
                "if MAKE_PLOTS:\n",
                "    plot_histograms(df)"
            ]
        },
        {
            "cell_type": "markdown",
            "metadata": {},
            "source": [
                "### without outliers"
            ]
        },
        {
            "cell_type": "code",
            "execution_count": 20,
            "metadata": {},
            "outputs": [],
            "source": [
                "# rejecting outliers for given PRICE_TRESHOLD\n",
                "df = df[df[\"price\"] <= PRICE_TRESHOLD]\n",
                "\n",
                "# rejecting outliers for given WEIGHT_TRESHOLD\n",
                "df = df[df[\"weight_kg\"] <= WEIGHT_TRESHOLD]"
            ]
        },
        {
            "cell_type": "code",
            "execution_count": 21,
            "metadata": {},
            "outputs": [],
            "source": [
                "if MAKE_PLOTS:\n",
                "    plot_histograms(df)"
            ]
        },
        {
            "cell_type": "markdown",
            "metadata": {},
            "source": [
                "### without prices below 0"
            ]
        },
        {
            "cell_type": "code",
            "execution_count": 22,
            "metadata": {},
            "outputs": [],
            "source": [
                "# deleting rows with prices below 0\n",
                "df = df[df[\"price\"] >= 0]"
            ]
        },
        {
            "cell_type": "code",
            "execution_count": 23,
            "metadata": {},
            "outputs": [],
            "source": [
                "if MAKE_PLOTS:\n",
                "    plot_histograms(df)"
            ]
        },
        {
            "cell_type": "markdown",
            "metadata": {},
            "source": [
                "### without time_diff below 0"
            ]
        },
        {
            "cell_type": "code",
            "execution_count": 24,
            "metadata": {},
            "outputs": [],
            "source": [
                "df_with_time_diff_below_0 = df\n",
                "df = df[df[\"time_diff\"] >= 0]"
            ]
        },
        {
            "cell_type": "code",
            "execution_count": 25,
            "metadata": {},
            "outputs": [],
            "source": [
                "if MAKE_PLOTS:\n",
                "    plot_histograms(df)"
            ]
        },
        {
            "cell_type": "markdown",
            "metadata": {},
            "source": [
                "## heatmap"
            ]
        },
        {
            "cell_type": "markdown",
            "metadata": {},
            "source": [
                "### with time_diff below zero"
            ]
        },
        {
            "cell_type": "code",
            "execution_count": 26,
            "metadata": {},
            "outputs": [],
            "source": [
                "def update_list_of_columns():\n",
                "    banned_list_of_columns = [\"purchase_id\", \"delivery_company\", \"session_id\", \"user_id\", \"product_id\"]\n",
                "    columns_list = [col for col in df.columns.values.tolist() if col not in banned_list_of_columns]\n",
                "    return columns_list\n",
                "\n",
                "columns_list = update_list_of_columns()"
            ]
        },
        {
            "cell_type": "code",
            "execution_count": 27,
            "metadata": {},
            "outputs": [],
            "source": [
                "if MAKE_PLOTS:\n",
                "    print(df_with_time_diff_below_0.shape)\n",
                "    ax = sns.heatmap(df_with_time_diff_below_0[columns_list].corr(), square=True, cmap='RdYlGn')"
            ]
        },
        {
            "cell_type": "markdown",
            "metadata": {},
            "source": [
                "### without time_diff below zero"
            ]
        },
        {
            "cell_type": "markdown",
            "metadata": {},
            "source": [
                "#### pearson"
            ]
        },
        {
            "cell_type": "code",
            "execution_count": 28,
            "metadata": {},
            "outputs": [],
            "source": [
                "if MAKE_PLOTS:\n",
                "    print(df.shape)\n",
                "    ax = sns.heatmap(df[columns_list].corr('pearson'), square=True, cmap='RdYlGn')"
            ]
        },
        {
            "cell_type": "markdown",
            "metadata": {},
            "source": [
                "#### spearman"
            ]
        },
        {
            "cell_type": "code",
            "execution_count": 29,
            "metadata": {},
            "outputs": [],
            "source": [
                "if MAKE_PLOTS:\n",
                "    print(df.shape)\n",
                "    ax = sns.heatmap(df[columns_list].corr('spearman'), square=True, cmap='RdYlGn')"
            ]
        },
        {
            "cell_type": "markdown",
            "metadata": {},
            "source": [
                "#### kendall"
            ]
        },
        {
            "cell_type": "code",
            "execution_count": 30,
            "metadata": {},
            "outputs": [],
            "source": [
                "# if MAKE_PLOTS:\n",
                "#     print(df.shape)\n",
                "#     ax = sns.heatmap(df[columns_list].corr('kendall'), square=True, cmap='RdYlGn')"
            ]
        },
        {
            "cell_type": "markdown",
            "metadata": {},
            "source": [
                "## Pairplot"
            ]
        },
        {
            "cell_type": "code",
            "execution_count": 31,
            "metadata": {},
            "outputs": [
                {
                    "data": {
                        "text/plain": [
                            "False"
                        ]
                    },
                    "execution_count": 31,
                    "metadata": {},
                    "output_type": "execute_result"
                }
            ],
            "source": [
                "df.isnull().values.any()"
            ]
        },
        {
            "cell_type": "code",
            "execution_count": 32,
            "metadata": {},
            "outputs": [
                {
                    "data": {
                        "text/plain": [
                            "event_type                1\n",
                            "delivery_company          3\n",
                            "offered_discount          5\n",
                            "city                      7\n",
                            "category_path            23\n",
                            "brand                    57\n",
                            "weight_kg               105\n",
                            "price                   133\n",
                            "product_name            159\n",
                            "product_id              161\n",
                            "name                    396\n",
                            "street                  396\n",
                            "user_id                 396\n",
                            "time_diff             11092\n",
                            "delivery_timestamp    11289\n",
                            "purchase_timestamp    11314\n",
                            "session_id            11315\n",
                            "purchase_id           11315\n",
                            "dtype: int64"
                        ]
                    },
                    "execution_count": 32,
                    "metadata": {},
                    "output_type": "execute_result"
                }
            ],
            "source": [
                "df_temp = df.drop(columns='optional_attributes')\n",
                "df_temp.nunique().sort_values()"
            ]
        },
        {
            "cell_type": "code",
            "execution_count": 33,
            "metadata": {},
            "outputs": [],
            "source": [
                "if MAKE_PLOTS and MAKE_PAIRPLOT:\n",
                "    columns_to_drop_for_pairplot = ['purchase_id', 'session_id', 'user_id', 'product_id']\n",
                "    df_for_pairplot = df.drop(columns=columns_to_drop_for_pairplot)\n",
                "    g = sns.pairplot(df_for_pairplot, kind='scatter', hue='delivery_company')"
            ]
        },
        {
            "cell_type": "markdown",
            "metadata": {},
            "source": [
                "Na pierwszy rzut oka atrybut delivery_company nie ma tak dużego znaczenia - spodziewaliśmy się większego zróżnicowania."
            ]
        },
        {
            "cell_type": "code",
            "execution_count": 34,
            "metadata": {},
            "outputs": [],
            "source": [
                "if MAKE_PLOTS and MAKE_PAIRPLOT:\n",
                "    columns_to_drop_for_pairplot = ['purchase_id', 'session_id', 'user_id', 'product_id']\n",
                "    df_for_pairplot = df.drop(columns=columns_to_drop_for_pairplot)\n",
                "    g = sns.pairplot(df_for_pairplot, kind='hist')"
            ]
        },
        {
            "cell_type": "markdown",
            "metadata": {},
            "source": [
                "## visualizing time series"
            ]
        },
        {
            "cell_type": "code",
            "execution_count": 35,
            "metadata": {},
            "outputs": [
                {
                    "data": {
                        "text/plain": [
                            "11314"
                        ]
                    },
                    "execution_count": 35,
                    "metadata": {},
                    "output_type": "execute_result"
                }
            ],
            "source": [
                "df['purchase_timestamp'].nunique()"
            ]
        },
        {
            "cell_type": "code",
            "execution_count": 36,
            "metadata": {},
            "outputs": [
                {
                    "name": "stdout",
                    "output_type": "stream",
                    "text": [
                        "366\n"
                    ]
                },
                {
                    "data": {
                        "text/html": [
                            "<div>\n",
                            "<style scoped>\n",
                            "    .dataframe tbody tr th:only-of-type {\n",
                            "        vertical-align: middle;\n",
                            "    }\n",
                            "\n",
                            "    .dataframe tbody tr th {\n",
                            "        vertical-align: top;\n",
                            "    }\n",
                            "\n",
                            "    .dataframe thead th {\n",
                            "        text-align: right;\n",
                            "    }\n",
                            "</style>\n",
                            "<table border=\"1\" class=\"dataframe\">\n",
                            "  <thead>\n",
                            "    <tr style=\"text-align: right;\">\n",
                            "      <th></th>\n",
                            "      <th>purchase_id</th>\n",
                            "      <th>delivery_company</th>\n",
                            "      <th>time_diff</th>\n",
                            "      <th>session_id</th>\n",
                            "      <th>user_id</th>\n",
                            "      <th>product_id</th>\n",
                            "      <th>offered_discount</th>\n",
                            "      <th>price</th>\n",
                            "      <th>weight_kg</th>\n",
                            "    </tr>\n",
                            "    <tr>\n",
                            "      <th>purchase_date</th>\n",
                            "      <th></th>\n",
                            "      <th></th>\n",
                            "      <th></th>\n",
                            "      <th></th>\n",
                            "      <th></th>\n",
                            "      <th></th>\n",
                            "      <th></th>\n",
                            "      <th></th>\n",
                            "      <th></th>\n",
                            "    </tr>\n",
                            "  </thead>\n",
                            "  <tbody>\n",
                            "    <tr>\n",
                            "      <th>2021-04-24</th>\n",
                            "      <td>26367.444444</td>\n",
                            "      <td>489.037037</td>\n",
                            "      <td>228452.444444</td>\n",
                            "      <td>10802.777778</td>\n",
                            "      <td>319.629630</td>\n",
                            "      <td>1219.814815</td>\n",
                            "      <td>9.629630</td>\n",
                            "      <td>238.618148</td>\n",
                            "      <td>3.957000</td>\n",
                            "    </tr>\n",
                            "    <tr>\n",
                            "      <th>2021-04-25</th>\n",
                            "      <td>25669.676471</td>\n",
                            "      <td>506.823529</td>\n",
                            "      <td>229823.235294</td>\n",
                            "      <td>9628.588235</td>\n",
                            "      <td>294.676471</td>\n",
                            "      <td>1322.470588</td>\n",
                            "      <td>8.823529</td>\n",
                            "      <td>347.885294</td>\n",
                            "      <td>3.033118</td>\n",
                            "    </tr>\n",
                            "    <tr>\n",
                            "      <th>2021-04-26</th>\n",
                            "      <td>26019.529412</td>\n",
                            "      <td>477.764706</td>\n",
                            "      <td>209715.235294</td>\n",
                            "      <td>10223.117647</td>\n",
                            "      <td>308.058824</td>\n",
                            "      <td>1324.529412</td>\n",
                            "      <td>10.441176</td>\n",
                            "      <td>291.601765</td>\n",
                            "      <td>2.491265</td>\n",
                            "    </tr>\n",
                            "    <tr>\n",
                            "      <th>2021-04-27</th>\n",
                            "      <td>25111.548387</td>\n",
                            "      <td>521.032258</td>\n",
                            "      <td>217447.870968</td>\n",
                            "      <td>8692.354839</td>\n",
                            "      <td>275.516129</td>\n",
                            "      <td>1418.193548</td>\n",
                            "      <td>9.838710</td>\n",
                            "      <td>328.625806</td>\n",
                            "      <td>1.370806</td>\n",
                            "    </tr>\n",
                            "    <tr>\n",
                            "      <th>2021-04-28</th>\n",
                            "      <td>25667.821429</td>\n",
                            "      <td>451.000000</td>\n",
                            "      <td>264755.750000</td>\n",
                            "      <td>9625.464286</td>\n",
                            "      <td>294.607143</td>\n",
                            "      <td>1330.035714</td>\n",
                            "      <td>9.464286</td>\n",
                            "      <td>288.322857</td>\n",
                            "      <td>2.340679</td>\n",
                            "    </tr>\n",
                            "  </tbody>\n",
                            "</table>\n",
                            "</div>"
                        ],
                        "text/plain": [
                            "                purchase_id  delivery_company      time_diff    session_id  \\\n",
                            "purchase_date                                                                \n",
                            "2021-04-24     26367.444444        489.037037  228452.444444  10802.777778   \n",
                            "2021-04-25     25669.676471        506.823529  229823.235294   9628.588235   \n",
                            "2021-04-26     26019.529412        477.764706  209715.235294  10223.117647   \n",
                            "2021-04-27     25111.548387        521.032258  217447.870968   8692.354839   \n",
                            "2021-04-28     25667.821429        451.000000  264755.750000   9625.464286   \n",
                            "\n",
                            "                  user_id   product_id  offered_discount       price  \\\n",
                            "purchase_date                                                          \n",
                            "2021-04-24     319.629630  1219.814815          9.629630  238.618148   \n",
                            "2021-04-25     294.676471  1322.470588          8.823529  347.885294   \n",
                            "2021-04-26     308.058824  1324.529412         10.441176  291.601765   \n",
                            "2021-04-27     275.516129  1418.193548          9.838710  328.625806   \n",
                            "2021-04-28     294.607143  1330.035714          9.464286  288.322857   \n",
                            "\n",
                            "               weight_kg  \n",
                            "purchase_date             \n",
                            "2021-04-24      3.957000  \n",
                            "2021-04-25      3.033118  \n",
                            "2021-04-26      2.491265  \n",
                            "2021-04-27      1.370806  \n",
                            "2021-04-28      2.340679  "
                        ]
                    },
                    "metadata": {},
                    "output_type": "display_data"
                },
                {
                    "data": {
                        "text/html": [
                            "<div>\n",
                            "<style scoped>\n",
                            "    .dataframe tbody tr th:only-of-type {\n",
                            "        vertical-align: middle;\n",
                            "    }\n",
                            "\n",
                            "    .dataframe tbody tr th {\n",
                            "        vertical-align: top;\n",
                            "    }\n",
                            "\n",
                            "    .dataframe thead th {\n",
                            "        text-align: right;\n",
                            "    }\n",
                            "</style>\n",
                            "<table border=\"1\" class=\"dataframe\">\n",
                            "  <thead>\n",
                            "    <tr style=\"text-align: right;\">\n",
                            "      <th></th>\n",
                            "      <th>purchase_id</th>\n",
                            "      <th>delivery_company</th>\n",
                            "      <th>time_diff</th>\n",
                            "      <th>session_id</th>\n",
                            "      <th>user_id</th>\n",
                            "      <th>product_id</th>\n",
                            "      <th>offered_discount</th>\n",
                            "      <th>price</th>\n",
                            "      <th>weight_kg</th>\n",
                            "    </tr>\n",
                            "    <tr>\n",
                            "      <th>purchase_date</th>\n",
                            "      <th></th>\n",
                            "      <th></th>\n",
                            "      <th></th>\n",
                            "      <th></th>\n",
                            "      <th></th>\n",
                            "      <th></th>\n",
                            "      <th></th>\n",
                            "      <th></th>\n",
                            "      <th></th>\n",
                            "    </tr>\n",
                            "  </thead>\n",
                            "  <tbody>\n",
                            "    <tr>\n",
                            "      <th>2022-04-20</th>\n",
                            "      <td>27157.173913</td>\n",
                            "      <td>497.913043</td>\n",
                            "      <td>253663.869565</td>\n",
                            "      <td>12134.260870</td>\n",
                            "      <td>348.608696</td>\n",
                            "      <td>1240.391304</td>\n",
                            "      <td>7.173913</td>\n",
                            "      <td>367.146957</td>\n",
                            "      <td>4.043565</td>\n",
                            "    </tr>\n",
                            "    <tr>\n",
                            "      <th>2022-04-21</th>\n",
                            "      <td>26147.642857</td>\n",
                            "      <td>465.857143</td>\n",
                            "      <td>216740.250000</td>\n",
                            "      <td>10436.285714</td>\n",
                            "      <td>312.142857</td>\n",
                            "      <td>1278.071429</td>\n",
                            "      <td>11.607143</td>\n",
                            "      <td>355.324286</td>\n",
                            "      <td>1.765321</td>\n",
                            "    </tr>\n",
                            "    <tr>\n",
                            "      <th>2022-04-22</th>\n",
                            "      <td>25758.064516</td>\n",
                            "      <td>445.548387</td>\n",
                            "      <td>221526.935484</td>\n",
                            "      <td>9779.903226</td>\n",
                            "      <td>297.903226</td>\n",
                            "      <td>1318.225806</td>\n",
                            "      <td>9.516129</td>\n",
                            "      <td>293.015806</td>\n",
                            "      <td>0.896355</td>\n",
                            "    </tr>\n",
                            "    <tr>\n",
                            "      <th>2022-04-23</th>\n",
                            "      <td>26118.081081</td>\n",
                            "      <td>504.756757</td>\n",
                            "      <td>226038.135135</td>\n",
                            "      <td>10380.864865</td>\n",
                            "      <td>310.459459</td>\n",
                            "      <td>1300.351351</td>\n",
                            "      <td>8.783784</td>\n",
                            "      <td>286.575135</td>\n",
                            "      <td>2.357946</td>\n",
                            "    </tr>\n",
                            "    <tr>\n",
                            "      <th>2022-04-24</th>\n",
                            "      <td>25053.588235</td>\n",
                            "      <td>491.529412</td>\n",
                            "      <td>219802.588235</td>\n",
                            "      <td>8599.176471</td>\n",
                            "      <td>272.941176</td>\n",
                            "      <td>1297.176471</td>\n",
                            "      <td>9.411765</td>\n",
                            "      <td>213.431176</td>\n",
                            "      <td>2.537412</td>\n",
                            "    </tr>\n",
                            "  </tbody>\n",
                            "</table>\n",
                            "</div>"
                        ],
                        "text/plain": [
                            "                purchase_id  delivery_company      time_diff    session_id  \\\n",
                            "purchase_date                                                                \n",
                            "2022-04-20     27157.173913        497.913043  253663.869565  12134.260870   \n",
                            "2022-04-21     26147.642857        465.857143  216740.250000  10436.285714   \n",
                            "2022-04-22     25758.064516        445.548387  221526.935484   9779.903226   \n",
                            "2022-04-23     26118.081081        504.756757  226038.135135  10380.864865   \n",
                            "2022-04-24     25053.588235        491.529412  219802.588235   8599.176471   \n",
                            "\n",
                            "                  user_id   product_id  offered_discount       price  \\\n",
                            "purchase_date                                                          \n",
                            "2022-04-20     348.608696  1240.391304          7.173913  367.146957   \n",
                            "2022-04-21     312.142857  1278.071429         11.607143  355.324286   \n",
                            "2022-04-22     297.903226  1318.225806          9.516129  293.015806   \n",
                            "2022-04-23     310.459459  1300.351351          8.783784  286.575135   \n",
                            "2022-04-24     272.941176  1297.176471          9.411765  213.431176   \n",
                            "\n",
                            "               weight_kg  \n",
                            "purchase_date             \n",
                            "2022-04-20      4.043565  \n",
                            "2022-04-21      1.765321  \n",
                            "2022-04-22      0.896355  \n",
                            "2022-04-23      2.357946  \n",
                            "2022-04-24      2.537412  "
                        ]
                    },
                    "metadata": {},
                    "output_type": "display_data"
                }
            ],
            "source": [
                "time_series_df = df.copy()\n",
                "time_series_df['purchase_date'] = time_series_df['purchase_timestamp'].dt.date\n",
                "time_series_df = time_series_df.groupby(['purchase_date']).mean()\n",
                "time_series_df.index = pd.to_datetime(time_series_df.index)\n",
                "# time_series_df = time_series_df.reset_index()\n",
                "# time_series_df['purchase_date'].nunique()\n",
                "print(time_series_df.index.nunique())\n",
                "display(time_series_df.head())\n",
                "display(time_series_df.tail())"
            ]
        },
        {
            "cell_type": "markdown",
            "metadata": {},
            "source": [
                "### 1. trend analysis - moving average"
            ]
        },
        {
            "cell_type": "code",
            "execution_count": 37,
            "metadata": {},
            "outputs": [],
            "source": [
                "if MAKE_PLOTS:\n",
                "    moving_average = time_series_df['time_diff'].rolling(\n",
                "        window=90,\n",
                "        center=True,\n",
                "        min_periods=45\n",
                "    ).mean()\n",
                "    \n",
                "    fig, ax = plt.subplots()\n",
                "    ax.scatter(time_series_df.index, time_series_df['time_diff'], marker='.', color='0.5')\n",
                "    moving_average.plot(ax=ax)\n",
                "    plt.show()"
            ]
        },
        {
            "cell_type": "markdown",
            "metadata": {},
            "source": [
                "Jak widać wartość średnia z 3 miesięcy w okolicach sierpnia lekko rośnie, a w okolicach marca zaczyna powoli spadać. Natomiast można raczej powiedzieć, że trend jest mniej więcej stały."
            ]
        },
        {
            "cell_type": "markdown",
            "metadata": {},
            "source": [
                "### 2. time dependence (seasonality) analysis"
            ]
        },
        {
            "cell_type": "markdown",
            "metadata": {},
            "source": [
                "#### weekly seasonality with indicators"
            ]
        },
        {
            "cell_type": "markdown",
            "metadata": {},
            "source": [
                "##### function"
            ]
        },
        {
            "cell_type": "code",
            "execution_count": 38,
            "metadata": {},
            "outputs": [],
            "source": [
                "# source: https://www.kaggle.com/code/ryanholbrook/seasonality\n",
                "\n",
                "def seasonal_plot(X, y, period, freq, ax=None):\n",
                "    if ax is None:\n",
                "        _, ax = plt.subplots()\n",
                "    palette = sns.color_palette(\"husl\", n_colors=X[period].nunique(),)\n",
                "    ax = sns.lineplot(\n",
                "        x=freq,\n",
                "        y=y,\n",
                "        hue=period,\n",
                "        data=X,\n",
                "        ci=False,\n",
                "        ax=ax,\n",
                "        palette=palette,\n",
                "        legend=False,\n",
                "    )\n",
                "    ax.set_title(f\"Seasonal Plot ({period}/{freq})\")\n",
                "    for line, name in zip(ax.lines, X[period].unique()):\n",
                "        y_ = line.get_ydata()[-1]\n",
                "        ax.annotate(\n",
                "            name,\n",
                "            xy=(1, y_),\n",
                "            xytext=(6, 0),\n",
                "            color=line.get_color(),\n",
                "            xycoords=ax.get_yaxis_transform(),\n",
                "            textcoords=\"offset points\",\n",
                "            size=14,\n",
                "            va=\"center\",\n",
                "        )\n",
                "    return ax"
            ]
        },
        {
            "cell_type": "markdown",
            "metadata": {},
            "source": [
                "##### weekly seasonality plot"
            ]
        },
        {
            "cell_type": "code",
            "execution_count": 39,
            "metadata": {},
            "outputs": [],
            "source": [
                "X = time_series_df.copy()\n",
                "\n",
                "X[\"day\"] = X.index.dayofweek\n",
                "X[\"week\"] = X.index.week\n",
                "\n",
                "X[\"dayofyear\"] = X.index.dayofyear\n",
                "X[\"year\"] = X.index.year\n",
                "\n",
                "if MAKE_PLOTS:\n",
                "    fig, (ax0, ax1) = plt.subplots(2, 1, figsize=(11, 6))\n",
                "    seasonal_plot(X, y=\"time_diff\", period=\"week\", freq=\"day\", ax=ax0)\n",
                "    seasonal_plot(X, y=\"time_diff\", period=\"year\", freq=\"dayofyear\", ax=ax1)"
            ]
        },
        {
            "cell_type": "markdown",
            "metadata": {},
            "source": [
                "Powyżej widzimy, że dzień tygodnia ma znaczenie - na przykład z czwartego na piąty dzień tygodnia prawie zawsze widać znaczny spadek średniego czasu dostawy.\n",
                "\n",
                "Natomiast na wykresie przedstawiającym okres roczny ciężko znaleźć jakieś zależności.\n",
                "\n",
                "Wykryta sezonowość na przestrzeni tygodnia zostanie uwzględniona w modelu za pomocą wskaźników (indicators) poprzez one-hot encoding.\n",
                "\n",
                "Warto dodać, że na powyższym wykresie widać, że średnia wartość time_diff dla kolejnych dni mocno skacze góra-dół. Być może są tam jakieś cykle, które uda się wykryć w kolejnym punkcie."
            ]
        },
        {
            "cell_type": "markdown",
            "metadata": {},
            "source": [
                "#### periodogram - seasonality with fourier features"
            ]
        },
        {
            "cell_type": "markdown",
            "metadata": {},
            "source": [
                "##### function"
            ]
        },
        {
            "cell_type": "code",
            "execution_count": 40,
            "metadata": {},
            "outputs": [],
            "source": [
                "# source: https://www.kaggle.com/code/ryanholbrook/seasonality\n",
                "\n",
                "def plot_periodogram(ts, detrend='linear', ax=None):\n",
                "    from scipy.signal import periodogram\n",
                "    fs = pd.Timedelta(\"1Y\") / pd.Timedelta(\"1D\")\n",
                "    freqencies, spectrum = periodogram(\n",
                "        ts,\n",
                "        fs=fs,\n",
                "        detrend=detrend,\n",
                "        window=\"boxcar\",\n",
                "        scaling='spectrum',\n",
                "    )\n",
                "    if ax is None:\n",
                "        _, ax = plt.subplots()\n",
                "    ax.step(freqencies, spectrum, color=\"purple\")\n",
                "    ax.set_xscale(\"log\")\n",
                "    ax.set_xticks([1, 2, 4, 6, 12, 26, 52, 104])\n",
                "    ax.set_xticklabels(\n",
                "        [\n",
                "            \"Annual (1)\",\n",
                "            \"Semiannual (2)\",\n",
                "            \"Quarterly (4)\",\n",
                "            \"Bimonthly (6)\",\n",
                "            \"Monthly (12)\",\n",
                "            \"Biweekly (26)\",\n",
                "            \"Weekly (52)\",\n",
                "            \"Semiweekly (104)\",\n",
                "        ],\n",
                "        rotation=30,\n",
                "    )\n",
                "    ax.ticklabel_format(axis=\"y\", style=\"sci\", scilimits=(0, 0))\n",
                "    ax.set_ylabel(\"Variance\")\n",
                "    ax.set_title(\"Periodogram\")\n",
                "    return ax"
            ]
        },
        {
            "cell_type": "markdown",
            "metadata": {},
            "source": [
                "##### periodogram plot"
            ]
        },
        {
            "cell_type": "code",
            "execution_count": 41,
            "metadata": {},
            "outputs": [],
            "source": [
                "if MAKE_PLOTS:\n",
                "    plot_periodogram(time_series_df[\"time_diff\"])"
            ]
        },
        {
            "cell_type": "markdown",
            "metadata": {},
            "source": [
                "Zgodnie z wcześniejszymi spostrzeżeniami na powyższym wykresie widzimy silną zależność tygodniową. Widać także brak silnych zależności w przypadku okresów dłuższych - takich jak miesiąc czy rok.\n",
                "\n",
                "Nie jest natomiast pewne czy udzielimy to w modelu. Nie mamy pewnego pomysłu jak to zrobić - być może by wymagało to dodatkowego modelu, który przewiduje średni czas dostawy danego dnia. Poza tym zależność tygodniowa prawdopodobnie jest skorelowana z tym, jaki jest dzień tygodnia (poprzedni punkt), co zostanie zamodelowane."
            ]
        },
        {
            "cell_type": "markdown",
            "metadata": {},
            "source": [
                "### 3. serial dependence (cycles) analysis"
            ]
        },
        {
            "cell_type": "markdown",
            "metadata": {},
            "source": [
                "#### function"
            ]
        },
        {
            "cell_type": "code",
            "execution_count": 42,
            "metadata": {},
            "outputs": [],
            "source": [
                "# source: https://www.kaggle.com/code/ryanholbrook/time-series-as-features\n",
                "\n",
                "from statsmodels.graphics.tsaplots import plot_pacf\n",
                "\n",
                "def lagplot(x, y=None, lag=1, standardize=False, ax=None, **kwargs):\n",
                "    from matplotlib.offsetbox import AnchoredText\n",
                "    x_ = x.shift(lag)\n",
                "    if standardize:\n",
                "        x_ = (x_ - x_.mean()) / x_.std()\n",
                "    if y is not None:\n",
                "        y_ = (y - y.mean()) / y.std() if standardize else y\n",
                "    else:\n",
                "        y_ = x\n",
                "    corr = y_.corr(x_)\n",
                "    if ax is None:\n",
                "        fig, ax = plt.subplots()\n",
                "    scatter_kws = dict(\n",
                "        alpha=0.75,\n",
                "        s=3,\n",
                "    )\n",
                "    line_kws = dict(color='C3', )\n",
                "    ax = sns.regplot(x=x_,\n",
                "                     y=y_,\n",
                "                     scatter_kws=scatter_kws,\n",
                "                     line_kws=line_kws,\n",
                "                     lowess=True,\n",
                "                     ax=ax,\n",
                "                     **kwargs)\n",
                "    at = AnchoredText(\n",
                "        f\"{corr:.2f}\",\n",
                "        prop=dict(size=\"large\"),\n",
                "        frameon=True,\n",
                "        loc=\"upper left\",\n",
                "    )\n",
                "    at.patch.set_boxstyle(\"square, pad=0.0\")\n",
                "    ax.add_artist(at)\n",
                "    ax.set(title=f\"Lag {lag}\", xlabel=x_.name, ylabel=y_.name)\n",
                "    return ax\n",
                "\n",
                "\n",
                "def plot_lags(x, y=None, lags=6, nrows=1, lagplot_kwargs={}, **kwargs):\n",
                "    import math\n",
                "    kwargs.setdefault('nrows', nrows)\n",
                "    kwargs.setdefault('ncols', math.ceil(lags / nrows))\n",
                "    kwargs.setdefault('figsize', (kwargs['ncols'] * 2, nrows * 2 + 0.5))\n",
                "    fig, axs = plt.subplots(sharex=True, sharey=True, squeeze=False, **kwargs)\n",
                "    for ax, k in zip(fig.get_axes(), range(kwargs['nrows'] * kwargs['ncols'])):\n",
                "        if k + 1 <= lags:\n",
                "            ax = lagplot(x, y, lag=k + 1, ax=ax, **lagplot_kwargs)\n",
                "            ax.set_title(f\"Lag {k + 1}\", fontdict=dict(fontsize=14))\n",
                "            ax.set(xlabel=\"\", ylabel=\"\")\n",
                "        else:\n",
                "            ax.axis('off')\n",
                "    plt.setp(axs[-1, :], xlabel=x.name)\n",
                "    plt.setp(axs[:, 0], ylabel=y.name if y is not None else x.name)\n",
                "    fig.tight_layout(w_pad=0.1, h_pad=0.1)\n",
                "    return fig"
            ]
        },
        {
            "cell_type": "markdown",
            "metadata": {},
            "source": [
                "#### lags comparison and autocorrelation"
            ]
        },
        {
            "cell_type": "code",
            "execution_count": 43,
            "metadata": {},
            "outputs": [],
            "source": [
                "if MAKE_PLOTS:\n",
                "    fig = plot_lags(time_series_df[\"time_diff\"], lags=7, nrows=2)"
            ]
        },
        {
            "cell_type": "markdown",
            "metadata": {},
            "source": [
                "#### partial autocorrelation"
            ]
        },
        {
            "cell_type": "code",
            "execution_count": 44,
            "metadata": {},
            "outputs": [],
            "source": [
                "if MAKE_PLOTS:\n",
                "    fig = plot_pacf(time_series_df[\"time_diff\"], lags=150)"
            ]
        },
        {
            "cell_type": "markdown",
            "metadata": {},
            "source": [
                "Powyższy wykres w okolicach 120 jest prawdopodobnie niepoprawny. Te korelacje też prawdopodobnie odpuścimy, ponieważ musimy pamiętać o tym, że są to korelacje ze średnim czasem dostawy danego dnia, co musiałoby się pośrednio przenieść na przewidywanie czasu dostawy dla konkretnego zamówienia. Z całej powyższej analizy szeregów czasowych ograniczymy się więc do dodania atrybutu z informacją o dniu tygodnia."
            ]
        },
        {
            "cell_type": "code",
            "execution_count": 45,
            "metadata": {},
            "outputs": [],
            "source": [
                "# lag = 119\n",
                "# display(time_series_df.time_diff.iloc[5:10])\n",
                "# display(time_series_df.time_diff.iloc[0+lag:5+lag])"
            ]
        },
        {
            "cell_type": "markdown",
            "metadata": {},
            "source": [
                "# dropping columns (choosing attributes)"
            ]
        },
        {
            "cell_type": "code",
            "execution_count": 46,
            "metadata": {},
            "outputs": [
                {
                    "name": "stdout",
                    "output_type": "stream",
                    "text": [
                        "<class 'pandas.core.frame.DataFrame'>\n",
                        "Int64Index: 11315 entries, 0 to 11451\n",
                        "Data columns (total 19 columns):\n",
                        " #   Column               Non-Null Count  Dtype         \n",
                        "---  ------               --------------  -----         \n",
                        " 0   purchase_id          11315 non-null  int64         \n",
                        " 1   purchase_timestamp   11315 non-null  datetime64[ns]\n",
                        " 2   delivery_timestamp   11315 non-null  datetime64[ns]\n",
                        " 3   delivery_company     11315 non-null  int64         \n",
                        " 4   time_diff            11315 non-null  float64       \n",
                        " 5   session_id           11315 non-null  int64         \n",
                        " 6   user_id              11315 non-null  int64         \n",
                        " 7   product_id           11315 non-null  int64         \n",
                        " 8   event_type           11315 non-null  object        \n",
                        " 9   offered_discount     11315 non-null  int64         \n",
                        " 10  name                 11315 non-null  object        \n",
                        " 11  city                 11315 non-null  object        \n",
                        " 12  street               11315 non-null  object        \n",
                        " 13  product_name         11315 non-null  object        \n",
                        " 14  category_path        11315 non-null  object        \n",
                        " 15  price                11315 non-null  float64       \n",
                        " 16  brand                11315 non-null  object        \n",
                        " 17  weight_kg            11315 non-null  float64       \n",
                        " 18  optional_attributes  11315 non-null  object        \n",
                        "dtypes: datetime64[ns](2), float64(3), int64(6), object(8)\n",
                        "memory usage: 1.7+ MB\n"
                    ]
                }
            ],
            "source": [
                "df.info()"
            ]
        },
        {
            "cell_type": "code",
            "execution_count": 47,
            "metadata": {},
            "outputs": [],
            "source": [
                "# drop columns\n",
                "df = df.drop(columns=COLUMNS_TO_DROP)\n",
                "df = df.drop(columns=\"optional_attributes\") # chyba do zmiany - wysokosc itp.\n",
                "df = df.drop(columns=\"purchase_timestamp\") # na pewno do zmiany"
            ]
        },
        {
            "cell_type": "code",
            "execution_count": 48,
            "metadata": {},
            "outputs": [
                {
                    "name": "stdout",
                    "output_type": "stream",
                    "text": [
                        "<class 'pandas.core.frame.DataFrame'>\n",
                        "Int64Index: 11315 entries, 0 to 11451\n",
                        "Data columns (total 7 columns):\n",
                        " #   Column            Non-Null Count  Dtype  \n",
                        "---  ------            --------------  -----  \n",
                        " 0   delivery_company  11315 non-null  int64  \n",
                        " 1   time_diff         11315 non-null  float64\n",
                        " 2   offered_discount  11315 non-null  int64  \n",
                        " 3   city              11315 non-null  object \n",
                        " 4   category_path     11315 non-null  object \n",
                        " 5   price             11315 non-null  float64\n",
                        " 6   weight_kg         11315 non-null  float64\n",
                        "dtypes: float64(3), int64(2), object(2)\n",
                        "memory usage: 707.2+ KB\n"
                    ]
                }
            ],
            "source": [
                "df.info()"
            ]
        },
        {
            "cell_type": "markdown",
            "metadata": {},
            "source": [
                "# one-hot encoding"
            ]
        },
        {
            "cell_type": "code",
            "execution_count": 49,
            "metadata": {},
            "outputs": [],
            "source": [
                "# df.to_excel(\"data_before_one_hot_encoding.xlsx\")"
            ]
        },
        {
            "cell_type": "code",
            "execution_count": 50,
            "metadata": {},
            "outputs": [],
            "source": [
                "def one_hot_encode_a_col_in_pd(df, col_name):\n",
                "    one_hot = pd.get_dummies(df[col_name], drop_first=True)\n",
                "    df = df.drop(columns=col_name)\n",
                "    df = df.join(one_hot)\n",
                "    return df"
            ]
        },
        {
            "cell_type": "code",
            "execution_count": 51,
            "metadata": {},
            "outputs": [],
            "source": [
                "for col_name in COLUMNS_TO_ONE_HOT:\n",
                "    df = one_hot_encode_a_col_in_pd(df, col_name)"
            ]
        },
        {
            "cell_type": "markdown",
            "metadata": {},
            "source": [
                "#### checking df shape"
            ]
        },
        {
            "cell_type": "code",
            "execution_count": 52,
            "metadata": {},
            "outputs": [
                {
                    "name": "stdout",
                    "output_type": "stream",
                    "text": [
                        "(11315, 34)\n"
                    ]
                }
            ],
            "source": [
                "print(df.shape)\n",
                "columns_list = update_list_of_columns()\n",
                "# ax = sns.heatmap(df[columns_list].corr(), square=True, cmap='RdYlGn')"
            ]
        },
        {
            "cell_type": "code",
            "execution_count": 53,
            "metadata": {},
            "outputs": [
                {
                    "name": "stdout",
                    "output_type": "stream",
                    "text": [
                        "(11315, 34)\n"
                    ]
                }
            ],
            "source": [
                "df = df.dropna()\n",
                "print(df.shape)\n",
                "# one-hot encoding took care of missing data, so shape has not changed"
            ]
        },
        {
            "cell_type": "code",
            "execution_count": 54,
            "metadata": {},
            "outputs": [
                {
                    "name": "stdout",
                    "output_type": "stream",
                    "text": [
                        "<class 'pandas.core.frame.DataFrame'>\n",
                        "Int64Index: 11315 entries, 0 to 11451\n",
                        "Data columns (total 34 columns):\n",
                        " #   Column                                         Non-Null Count  Dtype  \n",
                        "---  ------                                         --------------  -----  \n",
                        " 0   time_diff                                      11315 non-null  float64\n",
                        " 1   offered_discount                               11315 non-null  int64  \n",
                        " 2   price                                          11315 non-null  float64\n",
                        " 3   weight_kg                                      11315 non-null  float64\n",
                        " 4   516                                            11315 non-null  uint8  \n",
                        " 5   620                                            11315 non-null  uint8  \n",
                        " 6   Kraków                                         11315 non-null  uint8  \n",
                        " 7   Poznań                                         11315 non-null  uint8  \n",
                        " 8   Radom                                          11315 non-null  uint8  \n",
                        " 9   Szczecin                                       11315 non-null  uint8  \n",
                        " 10  Warszawa                                       11315 non-null  uint8  \n",
                        " 11  Wrocław                                        11315 non-null  uint8  \n",
                        " 12  Akcesoria (Laptop, PC);Kamery internetowe      11315 non-null  uint8  \n",
                        " 13  Części do laptopów;Pamięć RAM                  11315 non-null  uint8  \n",
                        " 14  Części i akcesoria;Matryce LCD                 11315 non-null  uint8  \n",
                        " 15  Części i akcesoria;Zasilacze LCD               11315 non-null  uint8  \n",
                        " 16  Kable i przedłużacze;DisplayPort               11315 non-null  uint8  \n",
                        " 17  Klawiatury;Bezprzewodowe                       11315 non-null  uint8  \n",
                        " 18  Klawiatury;Przewodowe                          11315 non-null  uint8  \n",
                        " 19  Komputery;Komputery stacjonarne                11315 non-null  uint8  \n",
                        " 20  Mikrofony i słuchawki;Słuchawki bezprzewodowe  11315 non-null  uint8  \n",
                        " 21  Mikrofony i słuchawki;Słuchawki przewodowe     11315 non-null  uint8  \n",
                        " 22  Monitory komputerowe;Monitory                  11315 non-null  uint8  \n",
                        " 23  Myszki;Bezprzewodowe                           11315 non-null  uint8  \n",
                        " 24  Myszki;Przewodowe                              11315 non-null  uint8  \n",
                        " 25  Pamięci przenośne;Pendrive                     11315 non-null  uint8  \n",
                        " 26  Podzespoły komputerowe;Pamięć RAM              11315 non-null  uint8  \n",
                        " 27  Skanery;Profesjonalne                          11315 non-null  uint8  \n",
                        " 28  Skanery;Płaskie USB                            11315 non-null  uint8  \n",
                        " 29  Tablety;Urządzenia                             11315 non-null  uint8  \n",
                        " 30  Urządzenia VR;Gogle VR                         11315 non-null  uint8  \n",
                        " 31  Urządzenia wskazujące;Pady                     11315 non-null  uint8  \n",
                        " 32  Zestaw klawiatura i mysz;Bezprzewodowe         11315 non-null  uint8  \n",
                        " 33  Zestaw klawiatura i mysz;Przewodowe            11315 non-null  uint8  \n",
                        "dtypes: float64(3), int64(1), uint8(30)\n",
                        "memory usage: 1.0 MB\n"
                    ]
                }
            ],
            "source": [
                "df.info()"
            ]
        },
        {
            "cell_type": "markdown",
            "metadata": {},
            "source": [
                "# normalization"
            ]
        },
        {
            "cell_type": "code",
            "execution_count": 55,
            "metadata": {},
            "outputs": [],
            "source": [
                "# specify columns for standardization scaling (Z-score normalization)\n",
                "cols_to_std = []\n",
                "\n",
                "# specify columns for min-max scaling\n",
                "cols_to_min_max = ['offered_discount', 'price', 'weight_kg']"
            ]
        },
        {
            "cell_type": "code",
            "execution_count": 56,
            "metadata": {},
            "outputs": [],
            "source": [
                "from sklearn.preprocessing import StandardScaler, MinMaxScaler\n",
                "\n",
                "for col in cols_to_std:\n",
                "    x = df[col].values\n",
                "    std_scaler = StandardScaler()\n",
                "    x_scaled = std_scaler.fit_transform(x.reshape(-1, 1))\n",
                "    df[col] = x_scaled\n",
                "\n",
                "for col in cols_to_min_max:\n",
                "    x = df[col].values\n",
                "    min_max_scaler = MinMaxScaler()\n",
                "    x_scaled = min_max_scaler.fit_transform(x.reshape(-1, 1))\n",
                "    df[col] = x_scaled"
            ]
        },
        {
            "cell_type": "markdown",
            "metadata": {},
            "source": [
                "# test of linear regression models"
            ]
        },
        {
            "cell_type": "code",
            "execution_count": 57,
            "metadata": {},
            "outputs": [
                {
                    "data": {
                        "text/html": [
                            "<div>\n",
                            "<style scoped>\n",
                            "    .dataframe tbody tr th:only-of-type {\n",
                            "        vertical-align: middle;\n",
                            "    }\n",
                            "\n",
                            "    .dataframe tbody tr th {\n",
                            "        vertical-align: top;\n",
                            "    }\n",
                            "\n",
                            "    .dataframe thead th {\n",
                            "        text-align: right;\n",
                            "    }\n",
                            "</style>\n",
                            "<table border=\"1\" class=\"dataframe\">\n",
                            "  <thead>\n",
                            "    <tr style=\"text-align: right;\">\n",
                            "      <th></th>\n",
                            "      <th>time_diff</th>\n",
                            "      <th>offered_discount</th>\n",
                            "      <th>price</th>\n",
                            "      <th>weight_kg</th>\n",
                            "      <th>516</th>\n",
                            "      <th>620</th>\n",
                            "      <th>Kraków</th>\n",
                            "      <th>Poznań</th>\n",
                            "      <th>Radom</th>\n",
                            "      <th>Szczecin</th>\n",
                            "      <th>...</th>\n",
                            "      <th>Myszki;Przewodowe</th>\n",
                            "      <th>Pamięci przenośne;Pendrive</th>\n",
                            "      <th>Podzespoły komputerowe;Pamięć RAM</th>\n",
                            "      <th>Skanery;Profesjonalne</th>\n",
                            "      <th>Skanery;Płaskie USB</th>\n",
                            "      <th>Tablety;Urządzenia</th>\n",
                            "      <th>Urządzenia VR;Gogle VR</th>\n",
                            "      <th>Urządzenia wskazujące;Pady</th>\n",
                            "      <th>Zestaw klawiatura i mysz;Bezprzewodowe</th>\n",
                            "      <th>Zestaw klawiatura i mysz;Przewodowe</th>\n",
                            "    </tr>\n",
                            "  </thead>\n",
                            "  <tbody>\n",
                            "    <tr>\n",
                            "      <th>0</th>\n",
                            "      <td>194397.0</td>\n",
                            "      <td>0.75</td>\n",
                            "      <td>0.228930</td>\n",
                            "      <td>0.020000</td>\n",
                            "      <td>0</td>\n",
                            "      <td>1</td>\n",
                            "      <td>0</td>\n",
                            "      <td>1</td>\n",
                            "      <td>0</td>\n",
                            "      <td>0</td>\n",
                            "      <td>...</td>\n",
                            "      <td>0</td>\n",
                            "      <td>0</td>\n",
                            "      <td>0</td>\n",
                            "      <td>0</td>\n",
                            "      <td>0</td>\n",
                            "      <td>0</td>\n",
                            "      <td>0</td>\n",
                            "      <td>0</td>\n",
                            "      <td>0</td>\n",
                            "      <td>0</td>\n",
                            "    </tr>\n",
                            "    <tr>\n",
                            "      <th>1</th>\n",
                            "      <td>184285.0</td>\n",
                            "      <td>0.50</td>\n",
                            "      <td>0.406238</td>\n",
                            "      <td>0.000800</td>\n",
                            "      <td>0</td>\n",
                            "      <td>1</td>\n",
                            "      <td>0</td>\n",
                            "      <td>1</td>\n",
                            "      <td>0</td>\n",
                            "      <td>0</td>\n",
                            "      <td>...</td>\n",
                            "      <td>0</td>\n",
                            "      <td>1</td>\n",
                            "      <td>0</td>\n",
                            "      <td>0</td>\n",
                            "      <td>0</td>\n",
                            "      <td>0</td>\n",
                            "      <td>0</td>\n",
                            "      <td>0</td>\n",
                            "      <td>0</td>\n",
                            "      <td>0</td>\n",
                            "    </tr>\n",
                            "    <tr>\n",
                            "      <th>2</th>\n",
                            "      <td>164705.0</td>\n",
                            "      <td>0.00</td>\n",
                            "      <td>0.665416</td>\n",
                            "      <td>0.000000</td>\n",
                            "      <td>0</td>\n",
                            "      <td>0</td>\n",
                            "      <td>0</td>\n",
                            "      <td>1</td>\n",
                            "      <td>0</td>\n",
                            "      <td>0</td>\n",
                            "      <td>...</td>\n",
                            "      <td>0</td>\n",
                            "      <td>0</td>\n",
                            "      <td>0</td>\n",
                            "      <td>0</td>\n",
                            "      <td>0</td>\n",
                            "      <td>0</td>\n",
                            "      <td>0</td>\n",
                            "      <td>0</td>\n",
                            "      <td>0</td>\n",
                            "      <td>0</td>\n",
                            "    </tr>\n",
                            "    <tr>\n",
                            "      <th>3</th>\n",
                            "      <td>252885.0</td>\n",
                            "      <td>0.75</td>\n",
                            "      <td>0.448400</td>\n",
                            "      <td>0.010667</td>\n",
                            "      <td>0</td>\n",
                            "      <td>1</td>\n",
                            "      <td>0</td>\n",
                            "      <td>1</td>\n",
                            "      <td>0</td>\n",
                            "      <td>0</td>\n",
                            "      <td>...</td>\n",
                            "      <td>0</td>\n",
                            "      <td>0</td>\n",
                            "      <td>0</td>\n",
                            "      <td>0</td>\n",
                            "      <td>0</td>\n",
                            "      <td>0</td>\n",
                            "      <td>0</td>\n",
                            "      <td>0</td>\n",
                            "      <td>0</td>\n",
                            "      <td>0</td>\n",
                            "    </tr>\n",
                            "    <tr>\n",
                            "      <th>4</th>\n",
                            "      <td>228672.0</td>\n",
                            "      <td>0.25</td>\n",
                            "      <td>0.032173</td>\n",
                            "      <td>0.008667</td>\n",
                            "      <td>1</td>\n",
                            "      <td>0</td>\n",
                            "      <td>0</td>\n",
                            "      <td>1</td>\n",
                            "      <td>0</td>\n",
                            "      <td>0</td>\n",
                            "      <td>...</td>\n",
                            "      <td>0</td>\n",
                            "      <td>0</td>\n",
                            "      <td>0</td>\n",
                            "      <td>0</td>\n",
                            "      <td>0</td>\n",
                            "      <td>0</td>\n",
                            "      <td>0</td>\n",
                            "      <td>0</td>\n",
                            "      <td>0</td>\n",
                            "      <td>0</td>\n",
                            "    </tr>\n",
                            "  </tbody>\n",
                            "</table>\n",
                            "<p>5 rows × 34 columns</p>\n",
                            "</div>"
                        ],
                        "text/plain": [
                            "   time_diff  offered_discount     price  weight_kg  516  620  Kraków  Poznań  \\\n",
                            "0   194397.0              0.75  0.228930   0.020000    0    1       0       1   \n",
                            "1   184285.0              0.50  0.406238   0.000800    0    1       0       1   \n",
                            "2   164705.0              0.00  0.665416   0.000000    0    0       0       1   \n",
                            "3   252885.0              0.75  0.448400   0.010667    0    1       0       1   \n",
                            "4   228672.0              0.25  0.032173   0.008667    1    0       0       1   \n",
                            "\n",
                            "   Radom  Szczecin  ...  Myszki;Przewodowe  Pamięci przenośne;Pendrive  \\\n",
                            "0      0         0  ...                  0                           0   \n",
                            "1      0         0  ...                  0                           1   \n",
                            "2      0         0  ...                  0                           0   \n",
                            "3      0         0  ...                  0                           0   \n",
                            "4      0         0  ...                  0                           0   \n",
                            "\n",
                            "   Podzespoły komputerowe;Pamięć RAM  Skanery;Profesjonalne  \\\n",
                            "0                                  0                      0   \n",
                            "1                                  0                      0   \n",
                            "2                                  0                      0   \n",
                            "3                                  0                      0   \n",
                            "4                                  0                      0   \n",
                            "\n",
                            "   Skanery;Płaskie USB  Tablety;Urządzenia  Urządzenia VR;Gogle VR  \\\n",
                            "0                    0                   0                       0   \n",
                            "1                    0                   0                       0   \n",
                            "2                    0                   0                       0   \n",
                            "3                    0                   0                       0   \n",
                            "4                    0                   0                       0   \n",
                            "\n",
                            "   Urządzenia wskazujące;Pady  Zestaw klawiatura i mysz;Bezprzewodowe  \\\n",
                            "0                           0                                       0   \n",
                            "1                           0                                       0   \n",
                            "2                           0                                       0   \n",
                            "3                           0                                       0   \n",
                            "4                           0                                       0   \n",
                            "\n",
                            "   Zestaw klawiatura i mysz;Przewodowe  \n",
                            "0                                    0  \n",
                            "1                                    0  \n",
                            "2                                    0  \n",
                            "3                                    0  \n",
                            "4                                    0  \n",
                            "\n",
                            "[5 rows x 34 columns]"
                        ]
                    },
                    "execution_count": 57,
                    "metadata": {},
                    "output_type": "execute_result"
                }
            ],
            "source": [
                "df.head()"
            ]
        },
        {
            "cell_type": "code",
            "execution_count": 58,
            "metadata": {},
            "outputs": [],
            "source": [
                "from sklearn.model_selection import train_test_split\n",
                "from sklearn.preprocessing import StandardScaler\n",
                "\n",
                "def split_data(df, target_column=\"time_diff\"):\n",
                "    y = df[\"time_diff\"].to_numpy()\n",
                "    X = df.drop(columns=\"time_diff\")\n",
                "    return train_test_split(X, y, test_size=0.2, random_state=SEED)"
            ]
        },
        {
            "cell_type": "code",
            "execution_count": 59,
            "metadata": {},
            "outputs": [],
            "source": [
                "def train_models(models_list):\n",
                "    for model in models_list:\n",
                "        model.fit(X_train, y_train)\n",
                "    return models_list"
            ]
        },
        {
            "cell_type": "code",
            "execution_count": 60,
            "metadata": {},
            "outputs": [],
            "source": [
                "def create_df_with_predictions(models_list, y_test):\n",
                "    y_pred_df = pd.DataFrame()\n",
                "    y_pred_df[\"y_test\"] = y_test\n",
                "    for model in models_list:\n",
                "        y_pred_df[f\"{type(model).__name__} prediction\"] = model.predict(X_test)\n",
                "    return y_pred_df"
            ]
        },
        {
            "cell_type": "code",
            "execution_count": 61,
            "metadata": {},
            "outputs": [],
            "source": [
                "def display_predictions(y_pred_df):\n",
                "    display(y_pred_df.head())\n",
                "    display(y_pred_df.info())\n",
                "    display(y_pred_df.describe())"
            ]
        },
        {
            "cell_type": "code",
            "execution_count": 62,
            "metadata": {},
            "outputs": [],
            "source": [
                "def print_scores(models_list):\n",
                "    for model in models_list:\n",
                "        score = model.score(X_test, y_test)\n",
                "        print(f\"{type(model).__name__} score = {score}\")"
            ]
        },
        {
            "cell_type": "code",
            "execution_count": 63,
            "metadata": {},
            "outputs": [
                {
                    "data": {
                        "text/html": [
                            "<div>\n",
                            "<style scoped>\n",
                            "    .dataframe tbody tr th:only-of-type {\n",
                            "        vertical-align: middle;\n",
                            "    }\n",
                            "\n",
                            "    .dataframe tbody tr th {\n",
                            "        vertical-align: top;\n",
                            "    }\n",
                            "\n",
                            "    .dataframe thead th {\n",
                            "        text-align: right;\n",
                            "    }\n",
                            "</style>\n",
                            "<table border=\"1\" class=\"dataframe\">\n",
                            "  <thead>\n",
                            "    <tr style=\"text-align: right;\">\n",
                            "      <th></th>\n",
                            "      <th>y_test</th>\n",
                            "      <th>Ridge prediction</th>\n",
                            "      <th>Lasso prediction</th>\n",
                            "      <th>DecisionTreeRegressor prediction</th>\n",
                            "      <th>RandomForestRegressor prediction</th>\n",
                            "    </tr>\n",
                            "  </thead>\n",
                            "  <tbody>\n",
                            "    <tr>\n",
                            "      <th>0</th>\n",
                            "      <td>225013.0</td>\n",
                            "      <td>290091.726175</td>\n",
                            "      <td>290102.710763</td>\n",
                            "      <td>237540.000000</td>\n",
                            "      <td>240817.593333</td>\n",
                            "    </tr>\n",
                            "    <tr>\n",
                            "      <th>1</th>\n",
                            "      <td>170068.0</td>\n",
                            "      <td>224600.455447</td>\n",
                            "      <td>224587.072185</td>\n",
                            "      <td>218666.333333</td>\n",
                            "      <td>218477.638683</td>\n",
                            "    </tr>\n",
                            "    <tr>\n",
                            "      <th>2</th>\n",
                            "      <td>195038.0</td>\n",
                            "      <td>220221.924393</td>\n",
                            "      <td>220191.389560</td>\n",
                            "      <td>209810.000000</td>\n",
                            "      <td>224064.108167</td>\n",
                            "    </tr>\n",
                            "    <tr>\n",
                            "      <th>3</th>\n",
                            "      <td>279415.0</td>\n",
                            "      <td>218870.036381</td>\n",
                            "      <td>218707.291204</td>\n",
                            "      <td>217214.000000</td>\n",
                            "      <td>244879.800667</td>\n",
                            "    </tr>\n",
                            "    <tr>\n",
                            "      <th>4</th>\n",
                            "      <td>331221.0</td>\n",
                            "      <td>314669.068454</td>\n",
                            "      <td>314676.831787</td>\n",
                            "      <td>293167.000000</td>\n",
                            "      <td>319913.904000</td>\n",
                            "    </tr>\n",
                            "  </tbody>\n",
                            "</table>\n",
                            "</div>"
                        ],
                        "text/plain": [
                            "     y_test  Ridge prediction  Lasso prediction  \\\n",
                            "0  225013.0     290091.726175     290102.710763   \n",
                            "1  170068.0     224600.455447     224587.072185   \n",
                            "2  195038.0     220221.924393     220191.389560   \n",
                            "3  279415.0     218870.036381     218707.291204   \n",
                            "4  331221.0     314669.068454     314676.831787   \n",
                            "\n",
                            "   DecisionTreeRegressor prediction  RandomForestRegressor prediction  \n",
                            "0                     237540.000000                     240817.593333  \n",
                            "1                     218666.333333                     218477.638683  \n",
                            "2                     209810.000000                     224064.108167  \n",
                            "3                     217214.000000                     244879.800667  \n",
                            "4                     293167.000000                     319913.904000  "
                        ]
                    },
                    "metadata": {},
                    "output_type": "display_data"
                },
                {
                    "name": "stdout",
                    "output_type": "stream",
                    "text": [
                        "<class 'pandas.core.frame.DataFrame'>\n",
                        "RangeIndex: 2263 entries, 0 to 2262\n",
                        "Data columns (total 5 columns):\n",
                        " #   Column                            Non-Null Count  Dtype  \n",
                        "---  ------                            --------------  -----  \n",
                        " 0   y_test                            2263 non-null   float64\n",
                        " 1   Ridge prediction                  2263 non-null   float64\n",
                        " 2   Lasso prediction                  2263 non-null   float64\n",
                        " 3   DecisionTreeRegressor prediction  2263 non-null   float64\n",
                        " 4   RandomForestRegressor prediction  2263 non-null   float64\n",
                        "dtypes: float64(5)\n",
                        "memory usage: 88.5 KB\n"
                    ]
                },
                {
                    "data": {
                        "text/plain": [
                            "None"
                        ]
                    },
                    "metadata": {},
                    "output_type": "display_data"
                },
                {
                    "data": {
                        "text/html": [
                            "<div>\n",
                            "<style scoped>\n",
                            "    .dataframe tbody tr th:only-of-type {\n",
                            "        vertical-align: middle;\n",
                            "    }\n",
                            "\n",
                            "    .dataframe tbody tr th {\n",
                            "        vertical-align: top;\n",
                            "    }\n",
                            "\n",
                            "    .dataframe thead th {\n",
                            "        text-align: right;\n",
                            "    }\n",
                            "</style>\n",
                            "<table border=\"1\" class=\"dataframe\">\n",
                            "  <thead>\n",
                            "    <tr style=\"text-align: right;\">\n",
                            "      <th></th>\n",
                            "      <th>y_test</th>\n",
                            "      <th>Ridge prediction</th>\n",
                            "      <th>Lasso prediction</th>\n",
                            "      <th>DecisionTreeRegressor prediction</th>\n",
                            "      <th>RandomForestRegressor prediction</th>\n",
                            "    </tr>\n",
                            "  </thead>\n",
                            "  <tbody>\n",
                            "    <tr>\n",
                            "      <th>count</th>\n",
                            "      <td>2263.000000</td>\n",
                            "      <td>2263.000000</td>\n",
                            "      <td>2263.000000</td>\n",
                            "      <td>2263.000000</td>\n",
                            "      <td>2263.000000</td>\n",
                            "    </tr>\n",
                            "    <tr>\n",
                            "      <th>mean</th>\n",
                            "      <td>231077.817941</td>\n",
                            "      <td>231586.990612</td>\n",
                            "      <td>231589.883934</td>\n",
                            "      <td>231920.942525</td>\n",
                            "      <td>232430.228897</td>\n",
                            "    </tr>\n",
                            "    <tr>\n",
                            "      <th>std</th>\n",
                            "      <td>79705.119199</td>\n",
                            "      <td>63129.122365</td>\n",
                            "      <td>63150.348253</td>\n",
                            "      <td>77977.231594</td>\n",
                            "      <td>70834.337091</td>\n",
                            "    </tr>\n",
                            "    <tr>\n",
                            "      <th>min</th>\n",
                            "      <td>33091.000000</td>\n",
                            "      <td>118759.945870</td>\n",
                            "      <td>118765.804992</td>\n",
                            "      <td>49657.000000</td>\n",
                            "      <td>80762.975548</td>\n",
                            "    </tr>\n",
                            "    <tr>\n",
                            "      <th>25%</th>\n",
                            "      <td>174344.000000</td>\n",
                            "      <td>179495.523856</td>\n",
                            "      <td>179473.682055</td>\n",
                            "      <td>175361.000000</td>\n",
                            "      <td>180784.937250</td>\n",
                            "    </tr>\n",
                            "    <tr>\n",
                            "      <th>50%</th>\n",
                            "      <td>222482.000000</td>\n",
                            "      <td>226963.099845</td>\n",
                            "      <td>226796.009167</td>\n",
                            "      <td>225631.000000</td>\n",
                            "      <td>229358.910000</td>\n",
                            "    </tr>\n",
                            "    <tr>\n",
                            "      <th>75%</th>\n",
                            "      <td>281067.000000</td>\n",
                            "      <td>282058.988473</td>\n",
                            "      <td>282145.491699</td>\n",
                            "      <td>277318.000000</td>\n",
                            "      <td>272264.719833</td>\n",
                            "    </tr>\n",
                            "    <tr>\n",
                            "      <th>max</th>\n",
                            "      <td>535390.000000</td>\n",
                            "      <td>455917.466845</td>\n",
                            "      <td>456018.114477</td>\n",
                            "      <td>563523.000000</td>\n",
                            "      <td>513769.706333</td>\n",
                            "    </tr>\n",
                            "  </tbody>\n",
                            "</table>\n",
                            "</div>"
                        ],
                        "text/plain": [
                            "              y_test  Ridge prediction  Lasso prediction  \\\n",
                            "count    2263.000000       2263.000000       2263.000000   \n",
                            "mean   231077.817941     231586.990612     231589.883934   \n",
                            "std     79705.119199      63129.122365      63150.348253   \n",
                            "min     33091.000000     118759.945870     118765.804992   \n",
                            "25%    174344.000000     179495.523856     179473.682055   \n",
                            "50%    222482.000000     226963.099845     226796.009167   \n",
                            "75%    281067.000000     282058.988473     282145.491699   \n",
                            "max    535390.000000     455917.466845     456018.114477   \n",
                            "\n",
                            "       DecisionTreeRegressor prediction  RandomForestRegressor prediction  \n",
                            "count                       2263.000000                       2263.000000  \n",
                            "mean                      231920.942525                     232430.228897  \n",
                            "std                        77977.231594                      70834.337091  \n",
                            "min                        49657.000000                      80762.975548  \n",
                            "25%                       175361.000000                     180784.937250  \n",
                            "50%                       225631.000000                     229358.910000  \n",
                            "75%                       277318.000000                     272264.719833  \n",
                            "max                       563523.000000                     513769.706333  "
                        ]
                    },
                    "metadata": {},
                    "output_type": "display_data"
                },
                {
                    "name": "stdout",
                    "output_type": "stream",
                    "text": [
                        "Ridge score = 0.6104732608964016\n",
                        "Lasso score = 0.6105160773831061\n",
                        "DecisionTreeRegressor score = 0.4047764706664214\n",
                        "RandomForestRegressor score = 0.5890388901288853\n"
                    ]
                }
            ],
            "source": [
                "from sklearn.linear_model import LinearRegression, Ridge, Lasso\n",
                "from sklearn.tree import DecisionTreeRegressor\n",
                "from sklearn.ensemble import RandomForestRegressor\n",
                "\n",
                "\n",
                "X_train, X_test, y_train, y_test = split_data(df)\n",
                "\n",
                "models_list = [Ridge(alpha=0.1),\n",
                "               Lasso(alpha=0.1),\n",
                "               DecisionTreeRegressor(random_state=SEED),\n",
                "               RandomForestRegressor(random_state=SEED)]\n",
                "models_list = train_models(models_list)\n",
                "\n",
                "y_pred_df = create_df_with_predictions(models_list, y_test)\n",
                "display_predictions(y_pred_df)\n",
                "\n",
                "print_scores(models_list)\n"
            ]
        }
    ],
    "metadata": {
        "interpreter": {
            "hash": "26de051ba29f2982a8de78e945f0abaf191376122a1563185a90213a26c5da77"
        },
        "kernelspec": {
            "display_name": "Python 3.10.1 64-bit",
            "language": "python",
            "name": "python3"
        },
        "language_info": {
            "codemirror_mode": {
                "name": "ipython",
                "version": 3
            },
            "file_extension": ".py",
            "mimetype": "text/x-python",
            "name": "python",
            "nbconvert_exporter": "python",
            "pygments_lexer": "ipython3",
            "version": "3.10.1"
        },
        "orig_nbformat": 4
    },
    "nbformat": 4,
    "nbformat_minor": 2
}
