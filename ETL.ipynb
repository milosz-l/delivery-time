{
 "cells": [
  {
   "cell_type": "markdown",
   "metadata": {},
   "source": [
    "# imports and loading DataFrame"
   ]
  },
  {
   "cell_type": "code",
   "execution_count": 309,
   "metadata": {},
   "outputs": [],
   "source": [
    "import seaborn as sns\n",
    "import matplotlib.pyplot as plt\n",
    "import scipy.stats as ss\n",
    "import pandas as pd\n",
    "import numpy as np\n",
    "import datetime\n",
    "\n",
    "DATE_FORMAT = \"%Y-%m-%dT%H:%M:%S\"\n",
    "\n",
    "\n",
    "# fact table\n",
    "sessions_df = pd.read_json(\"data/sessions.jsonl\", lines=True)\n",
    "\n",
    "# dimension tables\n",
    "deliveries_df = pd.read_json(\"data/deliveries.jsonl\", lines=True)\n",
    "products_df = pd.read_json(\"data/products.jsonl\", lines=True)\n",
    "users_df = pd.read_json(\"data/users.jsonl\", lines=True)"
   ]
  },
  {
   "cell_type": "markdown",
   "metadata": {},
   "source": [
    "# adding a column with time difference in deliveries\n",
    "adding a column with time difference between purchase_timestamp and delivery_timestamp in deliveries table\n",
    "\n",
    "1. Cut microseconds from delivery_timestamp, so it will be the same format as purchase_timestamp, because there are no microseconds in purchase_timestamp (using \".\" as a separator).\n",
    "2. Change columns format to datetime\n",
    "3. Add time_diff column (as timedelta64 object).\n",
    "4. Drop rows where time_diff is null (which means that delivery_timestamp was null).\n",
    "5. Change type of time_diff from timedelta64 to seconds in float.\n",
    "6. Drop rows where time_diff is below 0."
   ]
  },
  {
   "cell_type": "code",
   "execution_count": 310,
   "metadata": {},
   "outputs": [],
   "source": [
    "# 1.\n",
    "deliveries_df[\"delivery_timestamp\"] = deliveries_df[\"delivery_timestamp\"].str.split('.', expand=True)[0]\n",
    "\n",
    "# 2.\n",
    "deliveries_df[\"purchase_timestamp\"] = pd.to_datetime(deliveries_df[\"purchase_timestamp\"], format=DATE_FORMAT)\n",
    "deliveries_df[\"delivery_timestamp\"] = pd.to_datetime(deliveries_df[\"delivery_timestamp\"], format=DATE_FORMAT)\n",
    "\n",
    "# 3.\n",
    "deliveries_df[\"time_diff\"] = deliveries_df[\"delivery_timestamp\"] - deliveries_df[\"purchase_timestamp\"]\n",
    "\n",
    "# 4.\n",
    "deliveries_df = deliveries_df[deliveries_df[\"time_diff\"].notna()]\n",
    "\n",
    "# 5.\n",
    "# time diff as duration in seconds\n",
    "deliveries_df[\"time_diff\"] = deliveries_df[\"time_diff\"].apply(datetime.timedelta.total_seconds)\n",
    "\n",
    "# 6.\n",
    "# deliveries_df = deliveries_df[deliveries_df[\"time_diff\"] >= 0]\n",
    "\n",
    "\n",
    "# deliveries_df.info()\n",
    "# deliveries_df.head()"
   ]
  },
  {
   "cell_type": "markdown",
   "metadata": {},
   "source": [
    "# join deliveries with sessions"
   ]
  },
  {
   "cell_type": "code",
   "execution_count": 311,
   "metadata": {},
   "outputs": [],
   "source": [
    "# drop rows where event_type is not equal \"BUY_PRODUCT\"\n",
    "sessions_df = sessions_df[sessions_df[\"event_type\"] == \"BUY_PRODUCT\"]\n",
    "df = deliveries_df.merge(sessions_df, on=\"purchase_id\", how=\"left\")\n",
    "\n",
    "# df.info()\n",
    "# df.head()"
   ]
  },
  {
   "cell_type": "code",
   "execution_count": 312,
   "metadata": {},
   "outputs": [],
   "source": [
    "# making sure, that timestamp == purchase_timestamp\n",
    "num_of_rows_before = df.shape[0]\n",
    "df = df[df[\"timestamp\"] == df[\"purchase_timestamp\"]]\n",
    "num_of_rows_after = df.shape[0]\n",
    "\n",
    "assert(num_of_rows_before == num_of_rows_after)\n",
    "\n",
    "# now we can drop timestamp column, as it is redundant\n",
    "df = df.drop(columns=\"timestamp\")\n",
    "\n",
    "# df.info()\n",
    "# df.head()"
   ]
  },
  {
   "cell_type": "markdown",
   "metadata": {},
   "source": [
    "# join with other tables"
   ]
  },
  {
   "cell_type": "code",
   "execution_count": 313,
   "metadata": {},
   "outputs": [
    {
     "name": "stdout",
     "output_type": "stream",
     "text": [
      "<class 'pandas.core.frame.DataFrame'>\n",
      "Int64Index: 5782 entries, 0 to 5781\n",
      "Data columns (total 19 columns):\n",
      " #   Column               Non-Null Count  Dtype         \n",
      "---  ------               --------------  -----         \n",
      " 0   purchase_id          5782 non-null   int64         \n",
      " 1   purchase_timestamp   5782 non-null   datetime64[ns]\n",
      " 2   delivery_timestamp   5782 non-null   datetime64[ns]\n",
      " 3   delivery_company     5473 non-null   float64       \n",
      " 4   time_diff            5782 non-null   float64       \n",
      " 5   session_id           5782 non-null   int64         \n",
      " 6   user_id              5485 non-null   float64       \n",
      " 7   product_id           5469 non-null   float64       \n",
      " 8   event_type           5782 non-null   object        \n",
      " 9   offered_discount     5782 non-null   int64         \n",
      " 10  name                 5485 non-null   object        \n",
      " 11  city                 5485 non-null   object        \n",
      " 12  street               5485 non-null   object        \n",
      " 13  product_name         5469 non-null   object        \n",
      " 14  category_path        5469 non-null   object        \n",
      " 15  price                5469 non-null   float64       \n",
      " 16  brand                5469 non-null   object        \n",
      " 17  weight_kg            5469 non-null   float64       \n",
      " 18  optional_attributes  5469 non-null   object        \n",
      "dtypes: datetime64[ns](2), float64(6), int64(3), object(8)\n",
      "memory usage: 903.4+ KB\n"
     ]
    },
    {
     "data": {
      "text/html": [
       "<div>\n",
       "<style scoped>\n",
       "    .dataframe tbody tr th:only-of-type {\n",
       "        vertical-align: middle;\n",
       "    }\n",
       "\n",
       "    .dataframe tbody tr th {\n",
       "        vertical-align: top;\n",
       "    }\n",
       "\n",
       "    .dataframe thead th {\n",
       "        text-align: right;\n",
       "    }\n",
       "</style>\n",
       "<table border=\"1\" class=\"dataframe\">\n",
       "  <thead>\n",
       "    <tr style=\"text-align: right;\">\n",
       "      <th></th>\n",
       "      <th>purchase_id</th>\n",
       "      <th>purchase_timestamp</th>\n",
       "      <th>delivery_timestamp</th>\n",
       "      <th>delivery_company</th>\n",
       "      <th>time_diff</th>\n",
       "      <th>session_id</th>\n",
       "      <th>user_id</th>\n",
       "      <th>product_id</th>\n",
       "      <th>event_type</th>\n",
       "      <th>offered_discount</th>\n",
       "      <th>name</th>\n",
       "      <th>city</th>\n",
       "      <th>street</th>\n",
       "      <th>product_name</th>\n",
       "      <th>category_path</th>\n",
       "      <th>price</th>\n",
       "      <th>brand</th>\n",
       "      <th>weight_kg</th>\n",
       "      <th>optional_attributes</th>\n",
       "    </tr>\n",
       "  </thead>\n",
       "  <tbody>\n",
       "    <tr>\n",
       "      <th>0</th>\n",
       "      <td>20001</td>\n",
       "      <td>2022-03-04 12:00:32</td>\n",
       "      <td>2022-03-05 04:43:47</td>\n",
       "      <td>516.0</td>\n",
       "      <td>60195.0</td>\n",
       "      <td>124</td>\n",
       "      <td>102.0</td>\n",
       "      <td>1432.0</td>\n",
       "      <td>BUY_PRODUCT</td>\n",
       "      <td>15</td>\n",
       "      <td>Łukasz Pazera</td>\n",
       "      <td>Kraków</td>\n",
       "      <td>al. Skośna 265</td>\n",
       "      <td>Myszka przewodowa Defender Myszka Dla Graczy G...</td>\n",
       "      <td>Myszki;Przewodowe</td>\n",
       "      <td>-69.00</td>\n",
       "      <td>Defender</td>\n",
       "      <td>0.170</td>\n",
       "      <td>{'color': 'czarny'}</td>\n",
       "    </tr>\n",
       "    <tr>\n",
       "      <th>1</th>\n",
       "      <td>20002</td>\n",
       "      <td>2022-02-24 09:04:00</td>\n",
       "      <td>2022-02-24 00:01:00</td>\n",
       "      <td>516.0</td>\n",
       "      <td>-32580.0</td>\n",
       "      <td>126</td>\n",
       "      <td>102.0</td>\n",
       "      <td>1608.0</td>\n",
       "      <td>BUY_PRODUCT</td>\n",
       "      <td>20</td>\n",
       "      <td>Łukasz Pazera</td>\n",
       "      <td>Kraków</td>\n",
       "      <td>al. Skośna 265</td>\n",
       "      <td>Gogle VR Esperanza VR3DEAPSTD$VRPILOTBT</td>\n",
       "      <td>Urządzenia VR;Gogle VR</td>\n",
       "      <td>59.00</td>\n",
       "      <td>Esperanza</td>\n",
       "      <td>0.200</td>\n",
       "      <td>{}</td>\n",
       "    </tr>\n",
       "    <tr>\n",
       "      <th>2</th>\n",
       "      <td>20003</td>\n",
       "      <td>2022-02-23 01:05:44</td>\n",
       "      <td>2022-02-24 08:09:17</td>\n",
       "      <td>620.0</td>\n",
       "      <td>111813.0</td>\n",
       "      <td>128</td>\n",
       "      <td>102.0</td>\n",
       "      <td>1095.0</td>\n",
       "      <td>BUY_PRODUCT</td>\n",
       "      <td>20</td>\n",
       "      <td>Łukasz Pazera</td>\n",
       "      <td>Kraków</td>\n",
       "      <td>al. Skośna 265</td>\n",
       "      <td>Kabel DisplayPort Unitek C1608BNI czarny 2m</td>\n",
       "      <td>Kable i przedłużacze;DisplayPort</td>\n",
       "      <td>-58.99</td>\n",
       "      <td>Unitek</td>\n",
       "      <td>0.055</td>\n",
       "      <td>{}</td>\n",
       "    </tr>\n",
       "    <tr>\n",
       "      <th>3</th>\n",
       "      <td>20004</td>\n",
       "      <td>2022-01-12 19:51:01</td>\n",
       "      <td>2022-01-15 16:13:50</td>\n",
       "      <td>360.0</td>\n",
       "      <td>246169.0</td>\n",
       "      <td>129</td>\n",
       "      <td>102.0</td>\n",
       "      <td>1169.0</td>\n",
       "      <td>BUY_PRODUCT</td>\n",
       "      <td>20</td>\n",
       "      <td>Łukasz Pazera</td>\n",
       "      <td>Kraków</td>\n",
       "      <td>al. Skośna 265</td>\n",
       "      <td>Słuchawki nauszne Esperanza Blackbird</td>\n",
       "      <td>Mikrofony i słuchawki;Słuchawki przewodowe</td>\n",
       "      <td>29.99</td>\n",
       "      <td>Esperanza</td>\n",
       "      <td>0.000</td>\n",
       "      <td>{'color': 'czarny'}</td>\n",
       "    </tr>\n",
       "    <tr>\n",
       "      <th>4</th>\n",
       "      <td>20005</td>\n",
       "      <td>2022-03-16 20:50:14</td>\n",
       "      <td>2022-03-20 08:42:59</td>\n",
       "      <td>516.0</td>\n",
       "      <td>301965.0</td>\n",
       "      <td>130</td>\n",
       "      <td>102.0</td>\n",
       "      <td>1433.0</td>\n",
       "      <td>BUY_PRODUCT</td>\n",
       "      <td>5</td>\n",
       "      <td>Łukasz Pazera</td>\n",
       "      <td>Kraków</td>\n",
       "      <td>al. Skośna 265</td>\n",
       "      <td>Myszka przewodowa Defender Myszka Dla Graczy G...</td>\n",
       "      <td>Myszki;Przewodowe</td>\n",
       "      <td>44.00</td>\n",
       "      <td>Defender</td>\n",
       "      <td>0.220</td>\n",
       "      <td>{'color': 'czarny'}</td>\n",
       "    </tr>\n",
       "  </tbody>\n",
       "</table>\n",
       "</div>"
      ],
      "text/plain": [
       "   purchase_id  purchase_timestamp  delivery_timestamp  delivery_company  \\\n",
       "0        20001 2022-03-04 12:00:32 2022-03-05 04:43:47             516.0   \n",
       "1        20002 2022-02-24 09:04:00 2022-02-24 00:01:00             516.0   \n",
       "2        20003 2022-02-23 01:05:44 2022-02-24 08:09:17             620.0   \n",
       "3        20004 2022-01-12 19:51:01 2022-01-15 16:13:50             360.0   \n",
       "4        20005 2022-03-16 20:50:14 2022-03-20 08:42:59             516.0   \n",
       "\n",
       "   time_diff  session_id  user_id  product_id   event_type  offered_discount  \\\n",
       "0    60195.0         124    102.0      1432.0  BUY_PRODUCT                15   \n",
       "1   -32580.0         126    102.0      1608.0  BUY_PRODUCT                20   \n",
       "2   111813.0         128    102.0      1095.0  BUY_PRODUCT                20   \n",
       "3   246169.0         129    102.0      1169.0  BUY_PRODUCT                20   \n",
       "4   301965.0         130    102.0      1433.0  BUY_PRODUCT                 5   \n",
       "\n",
       "            name    city          street  \\\n",
       "0  Łukasz Pazera  Kraków  al. Skośna 265   \n",
       "1  Łukasz Pazera  Kraków  al. Skośna 265   \n",
       "2  Łukasz Pazera  Kraków  al. Skośna 265   \n",
       "3  Łukasz Pazera  Kraków  al. Skośna 265   \n",
       "4  Łukasz Pazera  Kraków  al. Skośna 265   \n",
       "\n",
       "                                        product_name  \\\n",
       "0  Myszka przewodowa Defender Myszka Dla Graczy G...   \n",
       "1            Gogle VR Esperanza VR3DEAPSTD$VRPILOTBT   \n",
       "2        Kabel DisplayPort Unitek C1608BNI czarny 2m   \n",
       "3              Słuchawki nauszne Esperanza Blackbird   \n",
       "4  Myszka przewodowa Defender Myszka Dla Graczy G...   \n",
       "\n",
       "                                category_path  price      brand  weight_kg  \\\n",
       "0                           Myszki;Przewodowe -69.00   Defender      0.170   \n",
       "1                      Urządzenia VR;Gogle VR  59.00  Esperanza      0.200   \n",
       "2            Kable i przedłużacze;DisplayPort -58.99     Unitek      0.055   \n",
       "3  Mikrofony i słuchawki;Słuchawki przewodowe  29.99  Esperanza      0.000   \n",
       "4                           Myszki;Przewodowe  44.00   Defender      0.220   \n",
       "\n",
       "   optional_attributes  \n",
       "0  {'color': 'czarny'}  \n",
       "1                   {}  \n",
       "2                   {}  \n",
       "3  {'color': 'czarny'}  \n",
       "4  {'color': 'czarny'}  "
      ]
     },
     "execution_count": 313,
     "metadata": {},
     "output_type": "execute_result"
    }
   ],
   "source": [
    "df = df.merge(users_df, on=\"user_id\", how=\"left\")\n",
    "df = df.merge(products_df, on=\"product_id\", how=\"left\")\n",
    "\n",
    "df.info()\n",
    "df.head()"
   ]
  },
  {
   "cell_type": "markdown",
   "metadata": {},
   "source": [
    "# visualizations"
   ]
  },
  {
   "cell_type": "markdown",
   "metadata": {},
   "source": [
    "## heatmap"
   ]
  },
  {
   "cell_type": "code",
   "execution_count": 314,
   "metadata": {},
   "outputs": [
    {
     "data": {
      "image/png": "[encoded data removed]",
      "text/plain": [
       "<Figure size 432x288 with 2 Axes>"
      ]
     },
     "metadata": {
      "needs_background": "light"
     },
     "output_type": "display_data"
    }
   ],
   "source": [
    "ax = sns.heatmap(df.corr(), square=True, cmap='RdYlGn')"
   ]
  },
  {
   "cell_type": "markdown",
   "metadata": {},
   "source": [
    "## Cramer's V"
   ]
  },
  {
   "cell_type": "code",
   "execution_count": 315,
   "metadata": {},
   "outputs": [],
   "source": [
    "def cramers_v(x, y):\n",
    "    confusion_matrix = pd.crosstab(x,y)\n",
    "    chi2 = ss.chi2_contingency(confusion_matrix)[0]\n",
    "    n = confusion_matrix.sum().sum()\n",
    "    phi2 = chi2/n\n",
    "    r,k = confusion_matrix.shape\n",
    "    phi2corr = max(0, phi2-((k-1)*(r-1))/(n-1))\n",
    "    rcorr = r-((r-1)**2)/(n-1)\n",
    "    kcorr = k-((k-1)**2)/(n-1)\n",
    "    return np.sqrt(phi2corr/min((kcorr-1),(rcorr-1)))"
   ]
  },
  {
   "cell_type": "code",
   "execution_count": 316,
   "metadata": {},
   "outputs": [],
   "source": [
    "# cramers_v()"
   ]
  },
  {
   "cell_type": "markdown",
   "metadata": {},
   "source": [
    "## time_diff histogram"
   ]
  },
  {
   "cell_type": "code",
   "execution_count": 317,
   "metadata": {},
   "outputs": [
    {
     "name": "stderr",
     "output_type": "stream",
     "text": [
      "C:\\Users\\Milosz\\AppData\\Roaming\\Python\\Python310\\site-packages\\pandas\\core\\arraylike.py:397: RuntimeWarning: invalid value encountered in log\n",
      "  result = getattr(ufunc, method)(*inputs, **kwargs)\n"
     ]
    },
    {
     "data": {
      "image/png": "[encoded data removed]",
      "text/plain": [
       "<Figure size 864x864 with 4 Axes>"
      ]
     },
     "metadata": {
      "needs_background": "light"
     },
     "output_type": "display_data"
    }
   ],
   "source": [
    "fig, ax = plt.subplots(2, 2)\n",
    "\n",
    "def plot_hist(x, y, num_bins=50, func=None):\n",
    "    if func:\n",
    "        ax[x, y].hist(func(df[\"time_diff\"]), bins=num_bins)\n",
    "        ax[x, y].set_title(f\"with {func} function\")\n",
    "    else:\n",
    "        ax[x, y].hist(df[\"time_diff\"], bins=num_bins)\n",
    "        ax[x, y].set_title(f\"without function\")\n",
    "    ax[x, y].set_xlabel(\"time difference [seconds]\")\n",
    "    ax[x, y].set_ylabel(\"# of observations\")\n",
    "\n",
    "plot_hist(0, 0)\n",
    "plot_hist(0, 1, func=np.log)\n",
    "# plot_hist(1, 0, func=np.log2)\n",
    "# plot_hist(1, 1, func=np.log10)\n",
    "\n",
    "fig.set_size_inches([12, 12])\n",
    "plt.show()"
   ]
  },
  {
   "cell_type": "markdown",
   "metadata": {},
   "source": [
    "## offered_discount histogram"
   ]
  },
  {
   "cell_type": "markdown",
   "metadata": {},
   "source": [
    "### with outliers"
   ]
  },
  {
   "cell_type": "code",
   "execution_count": 323,
   "metadata": {},
   "outputs": [
    {
     "data": {
      "image/png": "[encoded data removed]",
      "text/plain": [
       "<Figure size 864x864 with 4 Axes>"
      ]
     },
     "metadata": {
      "needs_background": "light"
     },
     "output_type": "display_data"
    }
   ],
   "source": [
    "fig, ax = plt.subplots(2, 2)\n",
    "\n",
    "def plot_hist(x, y, col_name, num_bins=None):\n",
    "    if num_bins:\n",
    "        ax[x, y].hist(df[col_name], bins=num_bins)\n",
    "    else:\n",
    "        ax[x, y].hist(df[col_name])\n",
    "    ax[x, y].set_title(f\"histogram of {col_name}\")\n",
    "    ax[x, y].set_xlabel(col_name)\n",
    "    ax[x, y].set_ylabel(\"# of observations\")\n",
    "\n",
    "plot_hist(0, 0, \"time_diff\", 50)\n",
    "plot_hist(0, 1, \"offered_discount\", 50)\n",
    "plot_hist(1, 0, \"price\", 50)\n",
    "plot_hist(1, 1, \"weight_kg\", 50)\n",
    "\n",
    "fig.set_size_inches([12, 12])\n",
    "plt.show()"
   ]
  },
  {
   "cell_type": "markdown",
   "metadata": {},
   "source": [
    "### without outliers"
   ]
  },
  {
   "cell_type": "code",
   "execution_count": null,
   "metadata": {},
   "outputs": [],
   "source": []
  }
 ],
 "metadata": {
  "interpreter": {
   "hash": "b89b5cfaba6639976dc87ff2fec6d58faec662063367e2c229c520fe71072417"
  },
  "kernelspec": {
   "display_name": "Python 3.10.1 64-bit",
   "language": "python",
   "name": "python3"
  },
  "language_info": {
   "codemirror_mode": {
    "name": "ipython",
    "version": 3
   },
   "file_extension": ".py",
   "mimetype": "text/x-python",
   "name": "python",
   "nbconvert_exporter": "python",
   "pygments_lexer": "ipython3",
   "version": "3.10.1"
  },
  "orig_nbformat": 4
 },
 "nbformat": 4,
 "nbformat_minor": 2
}
