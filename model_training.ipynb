{
 "cells": [
  {
   "cell_type": "code",
   "execution_count": 1,
   "metadata": {},
   "outputs": [],
   "source": [
    "import pandas as pd\n",
    "import numpy as np\n",
    "from TimeDiffDataTransformer import TimeDiffDataTransformer\n",
    "from TimeDiffConstants import DATE_FORMAT, PRICE_TRESHOLD, WEIGHT_TRESHOLD, NUM_OF_HOURS, SEED, COLS_TO_DROP_ALWAYS"
   ]
  },
  {
   "cell_type": "code",
   "execution_count": 2,
   "metadata": {},
   "outputs": [],
   "source": [
    "# warnings.filterwarnings('ignore')"
   ]
  },
  {
   "cell_type": "markdown",
   "metadata": {},
   "source": [
    "# preparing data"
   ]
  },
  {
   "cell_type": "code",
   "execution_count": 3,
   "metadata": {},
   "outputs": [],
   "source": [
    "time_diff_data = TimeDiffDataTransformer()\n",
    "time_diff_data.make_all_transformations()\n",
    "df = time_diff_data.get_df()"
   ]
  },
  {
   "cell_type": "markdown",
   "metadata": {},
   "source": [
    "# training model"
   ]
  },
  {
   "cell_type": "code",
   "execution_count": 4,
   "metadata": {},
   "outputs": [],
   "source": [
    "from sklearn.model_selection import train_test_split\n",
    "from sklearn.preprocessing import StandardScaler\n",
    "\n",
    "def split_data(df, target_column=\"time_diff\"):\n",
    "    y = df[\"time_diff\"].to_numpy()\n",
    "    X = df.drop(columns=\"time_diff\")\n",
    "    return train_test_split(X, y, test_size=0.2, random_state=SEED)"
   ]
  },
  {
   "cell_type": "code",
   "execution_count": 5,
   "metadata": {},
   "outputs": [],
   "source": [
    "def train_models(models_list, X_train, y_train):\n",
    "    for model in models_list:\n",
    "        model.fit(X_train, y_train)\n",
    "    return models_list"
   ]
  },
  {
   "cell_type": "code",
   "execution_count": 6,
   "metadata": {},
   "outputs": [],
   "source": [
    "def create_df_with_predictions(models_list, X_test, y_test):\n",
    "    y_pred_df = pd.DataFrame()\n",
    "    y_pred_df[\"y_test\"] = y_test\n",
    "    for model in models_list:\n",
    "        y_pred_df[f\"{type(model).__name__} prediction\"] = model.predict(X_test)\n",
    "    return y_pred_df"
   ]
  },
  {
   "cell_type": "code",
   "execution_count": 7,
   "metadata": {},
   "outputs": [],
   "source": [
    "def display_predictions(y_pred_df):\n",
    "    display(y_pred_df.head())\n",
    "    display(y_pred_df.info())\n",
    "    display(y_pred_df.describe())"
   ]
  },
  {
   "cell_type": "code",
   "execution_count": 8,
   "metadata": {},
   "outputs": [],
   "source": [
    "def print_scores(models_list, X_test, y_test):\n",
    "    for model in models_list:\n",
    "        score = model.score(X_test, y_test)\n",
    "        print(f\"{type(model).__name__} score = {score}\")"
   ]
  },
  {
   "cell_type": "code",
   "execution_count": 9,
   "metadata": {},
   "outputs": [],
   "source": [
    "def print_percent_of_good_predictions(models_list, X_test, y_test, error=NUM_OF_HOURS*60*60):\n",
    "    for model in models_list:\n",
    "        predictions = model.predict(X_test)\n",
    "        predictions_time_diff = np.abs(y_test - predictions)\n",
    "        num_of_good_predictions = (predictions_time_diff < error).sum()\n",
    "        percent_of_good_predictions = num_of_good_predictions / len(predictions_time_diff)\n",
    "        print(f'number of good predictions for {type(model).__name__} = {num_of_good_predictions}')\n",
    "        print(f'which is {percent_of_good_predictions * 100}%')"
   ]
  },
  {
   "cell_type": "code",
   "execution_count": 10,
   "metadata": {},
   "outputs": [
    {
     "name": "stderr",
     "output_type": "stream",
     "text": [
      "C:\\Users\\Milosz\\AppData\\Roaming\\Python\\Python310\\site-packages\\sklearn\\utils\\validation.py:1687: FutureWarning: Feature names only support names that are all strings. Got feature names with dtypes: ['int', 'str']. An error will be raised in 1.2.\n",
      "  warnings.warn(\n",
      "C:\\Users\\Milosz\\AppData\\Roaming\\Python\\Python310\\site-packages\\sklearn\\utils\\validation.py:1687: FutureWarning: Feature names only support names that are all strings. Got feature names with dtypes: ['int', 'str']. An error will be raised in 1.2.\n",
      "  warnings.warn(\n",
      "C:\\Users\\Milosz\\AppData\\Roaming\\Python\\Python310\\site-packages\\sklearn\\linear_model\\_coordinate_descent.py:647: ConvergenceWarning: Objective did not converge. You might want to increase the number of iterations, check the scale of the features or consider increasing regularisation. Duality gap: 9.196e+12, tolerance: 4.766e+09\n",
      "  model = cd_fast.enet_coordinate_descent(\n",
      "C:\\Users\\Milosz\\AppData\\Roaming\\Python\\Python310\\site-packages\\sklearn\\utils\\validation.py:1687: FutureWarning: Feature names only support names that are all strings. Got feature names with dtypes: ['int', 'str']. An error will be raised in 1.2.\n",
      "  warnings.warn(\n",
      "C:\\Users\\Milosz\\AppData\\Roaming\\Python\\Python310\\site-packages\\sklearn\\utils\\validation.py:1687: FutureWarning: Feature names only support names that are all strings. Got feature names with dtypes: ['int', 'str']. An error will be raised in 1.2.\n",
      "  warnings.warn(\n",
      "C:\\Users\\Milosz\\AppData\\Roaming\\Python\\Python310\\site-packages\\sklearn\\utils\\validation.py:1687: FutureWarning: Feature names only support names that are all strings. Got feature names with dtypes: ['int', 'str']. An error will be raised in 1.2.\n",
      "  warnings.warn(\n",
      "C:\\Users\\Milosz\\AppData\\Roaming\\Python\\Python310\\site-packages\\sklearn\\utils\\validation.py:1687: FutureWarning: Feature names only support names that are all strings. Got feature names with dtypes: ['int', 'str']. An error will be raised in 1.2.\n",
      "  warnings.warn(\n",
      "C:\\Users\\Milosz\\AppData\\Roaming\\Python\\Python310\\site-packages\\sklearn\\utils\\validation.py:1687: FutureWarning: Feature names only support names that are all strings. Got feature names with dtypes: ['int', 'str']. An error will be raised in 1.2.\n",
      "  warnings.warn(\n",
      "C:\\Users\\Milosz\\AppData\\Roaming\\Python\\Python310\\site-packages\\sklearn\\utils\\validation.py:1687: FutureWarning: Feature names only support names that are all strings. Got feature names with dtypes: ['int', 'str']. An error will be raised in 1.2.\n",
      "  warnings.warn(\n",
      "C:\\Users\\Milosz\\AppData\\Roaming\\Python\\Python310\\site-packages\\sklearn\\utils\\validation.py:1687: FutureWarning: Feature names only support names that are all strings. Got feature names with dtypes: ['int', 'str']. An error will be raised in 1.2.\n",
      "  warnings.warn(\n",
      "C:\\Users\\Milosz\\AppData\\Roaming\\Python\\Python310\\site-packages\\sklearn\\utils\\validation.py:1687: FutureWarning: Feature names only support names that are all strings. Got feature names with dtypes: ['int', 'str']. An error will be raised in 1.2.\n",
      "  warnings.warn(\n",
      "C:\\Users\\Milosz\\AppData\\Roaming\\Python\\Python310\\site-packages\\sklearn\\utils\\validation.py:1687: FutureWarning: Feature names only support names that are all strings. Got feature names with dtypes: ['int', 'str']. An error will be raised in 1.2.\n",
      "  warnings.warn(\n",
      "C:\\Users\\Milosz\\AppData\\Roaming\\Python\\Python310\\site-packages\\sklearn\\utils\\validation.py:1687: FutureWarning: Feature names only support names that are all strings. Got feature names with dtypes: ['int', 'str']. An error will be raised in 1.2.\n",
      "  warnings.warn(\n"
     ]
    },
    {
     "name": "stdout",
     "output_type": "stream",
     "text": [
      "Ridge score = 0.4852276084549646\n",
      "Lasso score = 0.4851617183305764\n",
      "DecisionTreeRegressor score = 0.24516851368960435\n",
      "RandomForestRegressor score = 0.5442239510870863\n",
      "number of good predictions for Ridge = 2242\n",
      "which is 90.99025974025975%\n",
      "number of good predictions for Lasso = 2242\n",
      "which is 90.99025974025975%\n",
      "number of good predictions for DecisionTreeRegressor = 2131\n",
      "which is 86.4853896103896%\n",
      "number of good predictions for RandomForestRegressor = 2291\n",
      "which is 92.9788961038961%\n"
     ]
    },
    {
     "name": "stderr",
     "output_type": "stream",
     "text": [
      "C:\\Users\\Milosz\\AppData\\Roaming\\Python\\Python310\\site-packages\\sklearn\\utils\\validation.py:1687: FutureWarning: Feature names only support names that are all strings. Got feature names with dtypes: ['int', 'str']. An error will be raised in 1.2.\n",
      "  warnings.warn(\n",
      "C:\\Users\\Milosz\\AppData\\Roaming\\Python\\Python310\\site-packages\\sklearn\\utils\\validation.py:1687: FutureWarning: Feature names only support names that are all strings. Got feature names with dtypes: ['int', 'str']. An error will be raised in 1.2.\n",
      "  warnings.warn(\n",
      "C:\\Users\\Milosz\\AppData\\Roaming\\Python\\Python310\\site-packages\\sklearn\\utils\\validation.py:1687: FutureWarning: Feature names only support names that are all strings. Got feature names with dtypes: ['int', 'str']. An error will be raised in 1.2.\n",
      "  warnings.warn(\n",
      "C:\\Users\\Milosz\\AppData\\Roaming\\Python\\Python310\\site-packages\\sklearn\\utils\\validation.py:1687: FutureWarning: Feature names only support names that are all strings. Got feature names with dtypes: ['int', 'str']. An error will be raised in 1.2.\n",
      "  warnings.warn(\n"
     ]
    }
   ],
   "source": [
    "from sklearn.linear_model import LinearRegression, Ridge, Lasso\n",
    "from sklearn.tree import DecisionTreeRegressor\n",
    "from sklearn.ensemble import RandomForestRegressor\n",
    "\n",
    "\n",
    "X_train, X_test, y_train, y_test = split_data(df)\n",
    "\n",
    "models_list = [Ridge(alpha=0.1),\n",
    "               Lasso(alpha=0.1),\n",
    "               DecisionTreeRegressor(random_state=SEED),\n",
    "               RandomForestRegressor(random_state=SEED)]\n",
    "models_list = train_models(models_list, X_train, y_train)\n",
    "\n",
    "y_pred_df = create_df_with_predictions(models_list, X_test, y_test)\n",
    "# display_predictions(y_pred_df)\n",
    "\n",
    "print_scores(models_list, X_test, y_test)\n",
    "\n",
    "print_percent_of_good_predictions(models_list, X_test, y_test)"
   ]
  },
  {
   "cell_type": "code",
   "execution_count": 11,
   "metadata": {},
   "outputs": [
    {
     "name": "stdout",
     "output_type": "stream",
     "text": [
      "number of good predictions for Ridge = 1510\n",
      "which is 61.282467532467535%\n",
      "number of good predictions for Lasso = 1514\n",
      "which is 61.4448051948052%\n",
      "number of good predictions for DecisionTreeRegressor = 1483\n",
      "which is 60.18668831168831%\n",
      "number of good predictions for RandomForestRegressor = 1713\n",
      "which is 69.5211038961039%\n"
     ]
    },
    {
     "name": "stderr",
     "output_type": "stream",
     "text": [
      "C:\\Users\\Milosz\\AppData\\Roaming\\Python\\Python310\\site-packages\\sklearn\\utils\\validation.py:1687: FutureWarning: Feature names only support names that are all strings. Got feature names with dtypes: ['int', 'str']. An error will be raised in 1.2.\n",
      "  warnings.warn(\n",
      "C:\\Users\\Milosz\\AppData\\Roaming\\Python\\Python310\\site-packages\\sklearn\\utils\\validation.py:1687: FutureWarning: Feature names only support names that are all strings. Got feature names with dtypes: ['int', 'str']. An error will be raised in 1.2.\n",
      "  warnings.warn(\n",
      "C:\\Users\\Milosz\\AppData\\Roaming\\Python\\Python310\\site-packages\\sklearn\\utils\\validation.py:1687: FutureWarning: Feature names only support names that are all strings. Got feature names with dtypes: ['int', 'str']. An error will be raised in 1.2.\n",
      "  warnings.warn(\n",
      "C:\\Users\\Milosz\\AppData\\Roaming\\Python\\Python310\\site-packages\\sklearn\\utils\\validation.py:1687: FutureWarning: Feature names only support names that are all strings. Got feature names with dtypes: ['int', 'str']. An error will be raised in 1.2.\n",
      "  warnings.warn(\n"
     ]
    }
   ],
   "source": [
    "print_percent_of_good_predictions(models_list, X_test, y_test, error=NUM_OF_HOURS/2*60*60)"
   ]
  }
 ],
 "metadata": {
  "interpreter": {
   "hash": "26de051ba29f2982a8de78e945f0abaf191376122a1563185a90213a26c5da77"
  },
  "kernelspec": {
   "display_name": "Python 3.10.1 64-bit",
   "language": "python",
   "name": "python3"
  },
  "language_info": {
   "codemirror_mode": {
    "name": "ipython",
    "version": 3
   },
   "file_extension": ".py",
   "mimetype": "text/x-python",
   "name": "python",
   "nbconvert_exporter": "python",
   "pygments_lexer": "ipython3",
   "version": "3.10.1"
  },
  "orig_nbformat": 4
 },
 "nbformat": 4,
 "nbformat_minor": 2
}
